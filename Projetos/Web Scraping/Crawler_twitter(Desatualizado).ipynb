{
  "nbformat": 4,
  "nbformat_minor": 0,
  "metadata": {
    "colab": {
      "provenance": []
    },
    "kernelspec": {
      "name": "python3",
      "display_name": "Python 3"
    }
  },
  "cells": [
    {
      "cell_type": "markdown",
      "metadata": {
        "id": "dt4k0_3qXKCl"
      },
      "source": [
        "Começamos instalando twint e nest_asyncio (que resolve problemas de compatibilidade com notebooks e erros de runtime). Estamos usando o Google Colab. Vamos instalar o twint e o nest_asyncio usando:"
      ]
    },
    {
      "cell_type": "code",
      "metadata": {
        "colab": {
          "base_uri": "https://localhost:8080/",
          "height": 1000
        },
        "id": "D2NZ98o4NRes",
        "outputId": "db67a841-1c9f-42c9-a599-95b8609b56f2"
      },
      "source": [
        "!pip install --upgrade -e git+https://github.com/twintproject/twint.git@origin/master#egg=twint"
      ],
      "execution_count": 1,
      "outputs": [
        {
          "output_type": "stream",
          "name": "stdout",
          "text": [
            "Obtaining twint from git+https://github.com/twintproject/twint.git@origin/master#egg=twint\n",
            "  Cloning https://github.com/twintproject/twint.git (to revision origin/master) to ./src/twint\n",
            "  Running command git clone --filter=blob:none --quiet https://github.com/twintproject/twint.git /content/src/twint\n",
            "\u001b[33m  WARNING: Did not find branch or tag 'origin/master', assuming revision or ref.\u001b[0m\u001b[33m\n",
            "\u001b[0m  Running command git checkout -q origin/master\n",
            "  Resolved https://github.com/twintproject/twint.git to commit origin/master\n",
            "  Preparing metadata (setup.py) ... \u001b[?25l\u001b[?25hdone\n",
            "Requirement already satisfied: aiohttp in /usr/local/lib/python3.10/dist-packages (from twint) (3.9.5)\n",
            "Collecting aiodns (from twint)\n",
            "  Downloading aiodns-3.2.0-py3-none-any.whl (5.7 kB)\n",
            "Requirement already satisfied: beautifulsoup4 in /usr/local/lib/python3.10/dist-packages (from twint) (4.12.3)\n",
            "Collecting cchardet (from twint)\n",
            "  Downloading cchardet-2.1.7.tar.gz (653 kB)\n",
            "\u001b[2K     \u001b[90m━━━━━━━━━━━━━━━━━━━━━━━━━━━━━━━━━━━━━━━━\u001b[0m \u001b[32m653.6/653.6 kB\u001b[0m \u001b[31m4.7 MB/s\u001b[0m eta \u001b[36m0:00:00\u001b[0m\n",
            "\u001b[?25h  Preparing metadata (setup.py) ... \u001b[?25l\u001b[?25hdone\n",
            "Collecting dataclasses (from twint)\n",
            "  Downloading dataclasses-0.6-py3-none-any.whl (14 kB)\n",
            "Collecting elasticsearch (from twint)\n",
            "  Downloading elasticsearch-8.13.0-py3-none-any.whl (451 kB)\n",
            "\u001b[2K     \u001b[90m━━━━━━━━━━━━━━━━━━━━━━━━━━━━━━━━━━━━━━━━\u001b[0m \u001b[32m451.0/451.0 kB\u001b[0m \u001b[31m8.5 MB/s\u001b[0m eta \u001b[36m0:00:00\u001b[0m\n",
            "\u001b[?25hRequirement already satisfied: pysocks in /usr/local/lib/python3.10/dist-packages (from twint) (1.7.1)\n",
            "Requirement already satisfied: pandas in /usr/local/lib/python3.10/dist-packages (from twint) (2.0.3)\n",
            "Collecting aiohttp_socks (from twint)\n",
            "  Downloading aiohttp_socks-0.8.4-py3-none-any.whl (9.6 kB)\n",
            "Collecting schedule (from twint)\n",
            "  Downloading schedule-1.2.1-py2.py3-none-any.whl (11 kB)\n",
            "Requirement already satisfied: geopy in /usr/local/lib/python3.10/dist-packages (from twint) (2.3.0)\n",
            "Collecting fake-useragent (from twint)\n",
            "  Downloading fake_useragent-1.5.1-py3-none-any.whl (17 kB)\n",
            "Collecting googletransx (from twint)\n",
            "  Downloading googletransx-2.4.2.tar.gz (13 kB)\n",
            "  Preparing metadata (setup.py) ... \u001b[?25l\u001b[?25hdone\n",
            "Collecting pycares>=4.0.0 (from aiodns->twint)\n",
            "  Downloading pycares-4.4.0-cp310-cp310-manylinux_2_17_x86_64.manylinux2014_x86_64.whl (288 kB)\n",
            "\u001b[2K     \u001b[90m━━━━━━━━━━━━━━━━━━━━━━━━━━━━━━━━━━━━━━━━\u001b[0m \u001b[32m288.7/288.7 kB\u001b[0m \u001b[31m8.9 MB/s\u001b[0m eta \u001b[36m0:00:00\u001b[0m\n",
            "\u001b[?25hRequirement already satisfied: aiosignal>=1.1.2 in /usr/local/lib/python3.10/dist-packages (from aiohttp->twint) (1.3.1)\n",
            "Requirement already satisfied: attrs>=17.3.0 in /usr/local/lib/python3.10/dist-packages (from aiohttp->twint) (23.2.0)\n",
            "Requirement already satisfied: frozenlist>=1.1.1 in /usr/local/lib/python3.10/dist-packages (from aiohttp->twint) (1.4.1)\n",
            "Requirement already satisfied: multidict<7.0,>=4.5 in /usr/local/lib/python3.10/dist-packages (from aiohttp->twint) (6.0.5)\n",
            "Requirement already satisfied: yarl<2.0,>=1.0 in /usr/local/lib/python3.10/dist-packages (from aiohttp->twint) (1.9.4)\n",
            "Requirement already satisfied: async-timeout<5.0,>=4.0 in /usr/local/lib/python3.10/dist-packages (from aiohttp->twint) (4.0.3)\n",
            "Collecting python-socks[asyncio]<3.0.0,>=2.4.3 (from aiohttp_socks->twint)\n",
            "  Downloading python_socks-2.4.4-py3-none-any.whl (52 kB)\n",
            "\u001b[2K     \u001b[90m━━━━━━━━━━━━━━━━━━━━━━━━━━━━━━━━━━━━━━━━\u001b[0m \u001b[32m52.4/52.4 kB\u001b[0m \u001b[31m2.6 MB/s\u001b[0m eta \u001b[36m0:00:00\u001b[0m\n",
            "\u001b[?25hRequirement already satisfied: soupsieve>1.2 in /usr/local/lib/python3.10/dist-packages (from beautifulsoup4->twint) (2.5)\n",
            "Collecting elastic-transport<9,>=8.13 (from elasticsearch->twint)\n",
            "  Downloading elastic_transport-8.13.0-py3-none-any.whl (64 kB)\n",
            "\u001b[2K     \u001b[90m━━━━━━━━━━━━━━━━━━━━━━━━━━━━━━━━━━━━━━━━\u001b[0m \u001b[32m64.3/64.3 kB\u001b[0m \u001b[31m3.8 MB/s\u001b[0m eta \u001b[36m0:00:00\u001b[0m\n",
            "\u001b[?25hRequirement already satisfied: geographiclib<3,>=1.52 in /usr/local/lib/python3.10/dist-packages (from geopy->twint) (2.0)\n",
            "Requirement already satisfied: requests in /usr/local/lib/python3.10/dist-packages (from googletransx->twint) (2.31.0)\n",
            "Requirement already satisfied: python-dateutil>=2.8.2 in /usr/local/lib/python3.10/dist-packages (from pandas->twint) (2.8.2)\n",
            "Requirement already satisfied: pytz>=2020.1 in /usr/local/lib/python3.10/dist-packages (from pandas->twint) (2023.4)\n",
            "Requirement already satisfied: tzdata>=2022.1 in /usr/local/lib/python3.10/dist-packages (from pandas->twint) (2024.1)\n",
            "Requirement already satisfied: numpy>=1.21.0 in /usr/local/lib/python3.10/dist-packages (from pandas->twint) (1.25.2)\n",
            "Requirement already satisfied: urllib3<3,>=1.26.2 in /usr/local/lib/python3.10/dist-packages (from elastic-transport<9,>=8.13->elasticsearch->twint) (2.0.7)\n",
            "Requirement already satisfied: certifi in /usr/local/lib/python3.10/dist-packages (from elastic-transport<9,>=8.13->elasticsearch->twint) (2024.2.2)\n",
            "Requirement already satisfied: cffi>=1.5.0 in /usr/local/lib/python3.10/dist-packages (from pycares>=4.0.0->aiodns->twint) (1.16.0)\n",
            "Requirement already satisfied: six>=1.5 in /usr/local/lib/python3.10/dist-packages (from python-dateutil>=2.8.2->pandas->twint) (1.16.0)\n",
            "Requirement already satisfied: idna>=2.0 in /usr/local/lib/python3.10/dist-packages (from yarl<2.0,>=1.0->aiohttp->twint) (3.7)\n",
            "Requirement already satisfied: charset-normalizer<4,>=2 in /usr/local/lib/python3.10/dist-packages (from requests->googletransx->twint) (3.3.2)\n",
            "Requirement already satisfied: pycparser in /usr/local/lib/python3.10/dist-packages (from cffi>=1.5.0->pycares>=4.0.0->aiodns->twint) (2.22)\n",
            "Building wheels for collected packages: cchardet, googletransx\n",
            "  Building wheel for cchardet (setup.py) ... \u001b[?25l\u001b[?25hdone\n",
            "  Created wheel for cchardet: filename=cchardet-2.1.7-cp310-cp310-linux_x86_64.whl size=289389 sha256=e780998325e48bb9c3dc4b03df8418e828a44b9249d68b45188190061ca3f5ec\n",
            "  Stored in directory: /root/.cache/pip/wheels/ee/e0/ab/e01326f15c59438d080b1496dbab8091e952ec72f35e3c437e\n",
            "  Building wheel for googletransx (setup.py) ... \u001b[?25l\u001b[?25hdone\n",
            "  Created wheel for googletransx: filename=googletransx-2.4.2-py3-none-any.whl size=15953 sha256=4606de1edc8eda174d871a8e0762d442283929849b34c5789913c6815e222990\n",
            "  Stored in directory: /root/.cache/pip/wheels/12/79/4f/43718126b3548eda695b4c2fa4cd82667b2d62018a98dc6767\n",
            "Successfully built cchardet googletransx\n",
            "Installing collected packages: python-socks, fake-useragent, dataclasses, cchardet, schedule, elastic-transport, pycares, googletransx, elasticsearch, aiohttp_socks, aiodns, twint\n",
            "  Running setup.py develop for twint\n",
            "Successfully installed aiodns-3.2.0 aiohttp_socks-0.8.4 cchardet-2.1.7 dataclasses-0.6 elastic-transport-8.13.0 elasticsearch-8.13.0 fake-useragent-1.5.1 googletransx-2.4.2 pycares-4.4.0 python-socks-2.4.4 schedule-1.2.1 twint-2.1.21\n"
          ]
        },
        {
          "output_type": "display_data",
          "data": {
            "application/vnd.colab-display-data+json": {
              "pip_warning": {
                "packages": [
                  "dataclasses"
                ]
              },
              "id": "72c414def80c483a8fa35aa6bc742370"
            }
          },
          "metadata": {}
        }
      ]
    },
    {
      "cell_type": "code",
      "metadata": {
        "colab": {
          "base_uri": "https://localhost:8080/"
        },
        "id": "nFVq6cADNnZG",
        "outputId": "08c30be5-662c-48ad-c9d0-f251d4cfadd7"
      },
      "source": [
        "!pip install nest_asyncio"
      ],
      "execution_count": null,
      "outputs": [
        {
          "output_type": "stream",
          "text": [
            "Requirement already satisfied: nest_asyncio in /usr/local/lib/python3.6/dist-packages (1.4.3)\n"
          ],
          "name": "stdout"
        }
      ]
    },
    {
      "cell_type": "markdown",
      "metadata": {
        "id": "x_cwBWeZXhPA"
      },
      "source": [
        "Assim que a instalação for concluída. Importe as bibliotecas necessárias."
      ]
    },
    {
      "cell_type": "code",
      "metadata": {
        "id": "GcFWXZqGNlBv"
      },
      "source": [
        "import twint\n",
        "\n",
        "import nest_asyncio\n",
        "\n",
        "nest_asyncio.apply()"
      ],
      "execution_count": null,
      "outputs": []
    },
    {
      "cell_type": "markdown",
      "metadata": {
        "id": "5U0HEgOvXmD0"
      },
      "source": [
        "Depois de importar bibliotecas, vou instanciar e configurar o twint usando:"
      ]
    },
    {
      "cell_type": "code",
      "metadata": {
        "id": "KhliFl9_NrwR"
      },
      "source": [
        "t = twint.Config()"
      ],
      "execution_count": null,
      "outputs": []
    },
    {
      "cell_type": "markdown",
      "metadata": {
        "id": "PVPtXBFLXvJJ"
      },
      "source": [
        "Em seguida, extrairemos os tweets do Twitter usando:"
      ]
    },
    {
      "cell_type": "code",
      "metadata": {
        "colab": {
          "base_uri": "https://localhost:8080/"
        },
        "id": "yLFAsuIVXpRL",
        "outputId": "9190de43-5339-459c-ef47-6fcfdbdab581"
      },
      "source": [
        "t.Search = \"SICOB\"\n",
        "\n",
        "t.Store_object = True\n",
        "\n",
        "t.Limit = 100\n",
        "\n",
        "t.Pandas = True #importante lembrar de ativar o pandas aqui\n",
        "\n",
        "twint.run.Search(t)\n"
      ],
      "execution_count": null,
      "outputs": [
        {
          "output_type": "stream",
          "text": [
            "1335220222983241731 2020-12-05 13:51:23 +0000 <tv9gujarati> Vaccine will arrive #Gujarat within few weeks, will be distributed to residents in 4 phases.: CM @vijayrupanibjp   #CoronaVaccine #CovidVaccine #COVID19  https://t.co/brG3q0XorY\n",
            "1335220213122535428 2020-12-05 13:51:20 +0000 <SanHelenDa> Rússia começou a vacinação em massa contra o Covid19. E aqui no RS, @EduardoLeite_ O PSDB fodão do FHC vai trazer vacina de onde??????\n",
            "1335220207854477314 2020-12-05 13:51:19 +0000 <Ancalagon_Black> @seanhannity instead of this useless tweet why don't you address the fact that COVID19 is now the leading cause of death in the USA. Earn your $20,000,000 a year for once.\n",
            "1335220203135832064 2020-12-05 13:51:18 +0000 <CupofJoeintheD2> @Acosta Saturday Fiasco of #DopeyDon:  -Replaces Pentagon Board with Cronies -Gives Huge Military Contract to Erik Pence who is DeVos’s Brother -Bans Biden team from Pentagon  -Country heading into Depression  -#COVID19 279K+Dead 14M+Infected  #UNMAGA #HumptyTrumpty #TrumpIsPathetic\n",
            "1335220203047641089 2020-12-05 13:51:18 +0000 <EricFerrera> @LionelMedia @margmulc12 Nope, no one hospitalized and those who were TOLD they had it all say...”it was just the flu!” #COVID19 #lies #bamboozled  https://t.co/zFjMFPOKeD\n",
            "1335220202901008392 2020-12-05 13:51:18 +0000 <RadioRelojCuba> El presidente de #Cuba @DiazCanelB, visitó este viernes el Instituto de Medicina Tropical Pedro Kourí, @IPKCuba, donde sostuvo un encuentro con varios jóvenes de esa insigne institución y de otras que tanto han aportado al enfrentamiento a la #Covid19  https://t.co/iZlJaVm72f\n",
            "1335220202276069379 2020-12-05 13:51:18 +0000 <mundtgmo> ¿ Pasará en Chile lo mismo con 2a. ola #COVID19? Impresionante, vean Alemania ! @sebasugarte  https://t.co/RnJ5Cryfji\n",
            "1335220196546670592 2020-12-05 13:51:16 +0000 <Nanoalto> Trento, anziana viene ricoverata e muore di Covid: i vicini entrano in casa e le rubano 14.000 euro  https://t.co/PFXlTc0gnM #covid19 #SARS_CoV_2 #coronavirus  via @SquidAppIT\n",
            "1335220190657859584 2020-12-05 13:51:15 +0000 <palmbeachresist> An American dies every 30 seconds. If those were abortions this jerk would be singing a different tune #COVID19  #GOPHypocrisy\n",
            "1335220188732538880 2020-12-05 13:51:14 +0000 <HurricaneHof> If you believe this vaccine 💉 is safe I’m willing to bet you also believe there were snakes 🐍 in Ireland, Natives had a nice meal with their visitors on Thanksgiving, and Jesus was born on December 25th. #COVID19 #CovidVaccine\n",
            "1335220188636086272 2020-12-05 13:51:14 +0000 <Thass283> @ambikasat Under these conditions how do the authorities expect to prevent the spread of #COVID19.\n",
            "1335220180109176835 2020-12-05 13:51:12 +0000 <cb9esplugues> Desde la Organitzacio del Torneig Internacional U15 masculí comuniquem que degut al Covid19 ens veiem obligats a suspendre la Edició XXII del Torneig que s hauria de jugar entre en 2 i el 5 de Gener.. TORNAREM al GENER 2022 amb més força que mai. 💪🏀  https://t.co/NDKzptPxNg\n",
            "1335220177085083648 2020-12-05 13:51:12 +0000 <IndFLGovTrack> 10,177 new cases and 124 deaths in Florida yesterday. Stay safe and mask up! #MaskUp #DeathSantis #DeSantisResign #DeSantisKillsFlorida #Florida #COVID19\n",
            "1335220176363589634 2020-12-05 13:51:11 +0000 <michael15071997>  https://t.co/CsUcyIsEkA #CoronaVirus #Corona #Virus #CoronaCrisis #VirusCorona #COVID19 #COVID19NL #CoronaNL #CoronaNederland #CoronaVirusNL #Besmet #Besmetting #Besmettingen #CoronaBesmetting #CoronaBesmettingen #Test #Testen #Getest #CoronaTest #CoronaTesten #CoronaTests #Tests\n",
            "1335220171808538624 2020-12-05 13:51:10 +0000 <robribret> #COVID19 #WorldSoilDay #HandeErcel #selfie #tbt #hot #hotgirl #beautiful #omg #gorgeous #seventeen  https://t.co/Y9r1GquuV0\n",
            "1335220168625184769 2020-12-05 13:51:10 +0000 <CupofJoeintheD2> @lauferlaw Saturday Fiasco of #DopeyDon:  -Replaces Pentagon Board with Cronies -Gives Huge Military Contract to Erik Pence who is DeVos’s Brother -Bans Biden team from Pentagon  -Country heading into Depression  -#COVID19 279K+Dead 14M+Infected  #UNMAGA #HumptyTrumpty #TrumpIsPathetic\n",
            "1335220165651263489 2020-12-05 13:51:09 +0000 <nyak_ih_meutuah> Itu ibarat wabah #covid19, jk tdk ditangani dgn baik &amp; adil mk virus meminta merdeka akan menyebar ke seluruh negeri dgn cepat &amp; memasuki pikiran smp ke alam bawah sadar anak negeri ini. Jk itu terjadi mk Indonesia hy tinggal nama. Semoga NKRI tetap abadi.\n",
            "1335220160802721794 2020-12-05 13:51:08 +0000 <Phelimmac> News that the government will offer no new public health funding- in the middle of #COVID19 health crisis- is nothing short of an outrage My column for @brightonargus    https://t.co/aluL8iX0Cw  https://t.co/o2SDX0RqPF\n",
            "1335220159519182849 2020-12-05 13:51:07 +0000 <MinistryWCD> Wherever you are, make sure to take the necessary precautions to #StaySafe from #COVID19. #Unite2FightCorona #NewNormal  https://t.co/DYihqTxdfF\n",
            "1335220158755991559 2020-12-05 13:51:07 +0000 <TomSchmidt30> I’ve told too many families their loved ones will not survive from #COVID19.  We need to end this pandemic: #StayHome, #MaskUp, #SocialDistance, &amp; when available, get #Vaccinated!  Thanks @MDbenji 4 speaking 2 @KSTP!   This is my ICU...   #MedTwitter   https://t.co/77xWdf9q5D\n",
            "1335220154842701824 2020-12-05 13:51:06 +0000 <Noor2alam786> چئیرمین نیب کو #COVID19 کا شکار ہونے کی خبریں گردش میں ہیں!!!  لگدا اے #جناب دا کام ختم🤔  https://t.co/hO2YWhDkjL\n",
            "1335220151969574913 2020-12-05 13:51:06 +0000 <AnynhaCarraro> 14° Dia. Vencemos o isolamento e as reações do covid19. Glória a Deus!\n",
            "1335220150308642816 2020-12-05 13:51:05 +0000 <sinidandersrum> #COVID19 #Schweiz #MaskeAuf #AbstandHalten Sieht nicht gut aus:  https://t.co/PltMSDj6iz\n",
            "1335220146265321472 2020-12-05 13:51:04 +0000 <RTVCes> 🔴 #Actualizamos Canarias registra un fallecimiento y 152 nuevos casos de #COVID19 en el último día, según el balance provisional de @SanidadGobCan. El total de casos acumulados en el archipiélago asciende a 21.902.   Ampliaremos en el Telenoticias 1 (14:30 h). #ContamosLaVida  https://t.co/igFwptFxFF\n",
            "1335220144428224515 2020-12-05 13:51:04 +0000 <charmway07> North Korea so y’all say are executing those that violate the Covid19 restrictions. Trump put a rush on some executions and if lethal injection doesn’t work or isn’t available bring on the firing squad legally he s requesting. Does he wanna be like Kim Jung Un🇺🇸\n",
            "1335220142851026946 2020-12-05 13:51:03 +0000 <CherylMorrisW> #COVID19 😷 #California #COVID 🏥 #Lockdown #SanFrancisco   👀 👇   https://t.co/HcwM8gtmzV\n",
            "1335220141739696128 2020-12-05 13:51:03 +0000 <COVIDLive> 1,527 new cases and 22 new deaths in Myanmar   [13:51 GMT] #coronavirus #CoronaVirusUpdate #COVID19 #CoronavirusPandemic\n",
            "1335220138778431489 2020-12-05 13:51:02 +0000 <VPITV> #5Dic #Covid19 | Fármaco logra eliminar la transmisión del virus por 24 horas  https://t.co/m22mBo5WRZ  https://t.co/BASg4H86lu\n",
            "1335220136882606081 2020-12-05 13:51:02 +0000 <medusa19_> If you haven't already, make sure to catch us on @AJENews discussing how our RSPT, paired with our Saturn Pass 'COVID-passport', will support the reopening of public spaces.  Watch the full Al Jazeera report at  https://t.co/iuhDcRT6Hd  #covid19 #covidtesting  https://t.co/YfpuIJSBf5\n",
            "1335220130452738049 2020-12-05 13:51:00 +0000 <pattonspotting> No wonder Rishi Sunak is a Star Wars fan.  He modelled his Covid19 strategy to the U.K. economy to the one used by Death Star on planet Alderaan.  https://t.co/ZJlfX6gKNX\n",
            "1335220129920061446 2020-12-05 13:51:00 +0000 <CimmeroIl> Ambulanze a sirene spiegate mentre trasportano non malati, ma dottori negli ospedali. Le ambulanze sono diventate dei taxi. Non esiste \"emergenza sanitaria\". È il sistema che la sta mettendo in scena. La vera emergenza è la dittatura mondialista del #Governo eversivo. #COVID19\n",
            "1335220128733147136 2020-12-05 13:51:00 +0000 <CarasCovid19> En México 🇲🇽 la cifra de fallecidos por #COVID19 es de: 107565  1298 defunciones en un día, ¡Cada uno es integrante de una familia! Descansen en paz.  Fuentes:  WHO Novel Coronavirus 2019 Johns Hopkins CSSE worldometers  https://t.co/jr4HVb9wyq #ULTIMAHORA #carasdelcovid\n",
            "1335220125952331780 2020-12-05 13:50:59 +0000 <EikePan> @RealEyesSee1 @hatice_akyun Die Leute tragen Masken und halten Abstand, dies hält die Grippe noch viel mehr zurück als Covid19. ausserdem haben sich mehr Leute impfen lassen dieses Jahr. es gibt überhaupt keine großevents disko kneipe, party etc. große Übertragungen der grippe wird verhindert\n",
            "1335220119027523584 2020-12-05 13:50:58 +0000 <Abrahamsson_sv> Anser du att PCR-tester är tillförlitliga för att använda som diagnos för #covid19? Motivera gärna ditt svar.  #PCRTest\n",
            "1335220112916316161 2020-12-05 13:50:56 +0000 <justgeorgeous2> #trump #Dead? actually, it is no joke. 🙃 #COVID19   Celebrities who've been probed by the Secret Service or FBI   https://t.co/8Jpmf2VagD ?sm=twtr\n",
            "1335220111876255745 2020-12-05 13:50:56 +0000 <GhanaLeague> PICTURES: @DreamsFootballC observes #Covid19 safety protocols for the #GPL action.   #GPLwk4 #BringBackTheLove  https://t.co/QtawXmS4IR\n",
            "1335220105668665346 2020-12-05 13:50:55 +0000 <NotYou0123> @Jim_Jordan should be ashamed of himself, but that would mean he had a conscience &amp; the ability to care about other ppl’s lives. This type of statement from leadership is embarrassing &amp; ignorant.   #ScienceMatters #COVID19 #Health #BeSafe #Gop #America #danger  https://t.co/qZylgxd3UE\n",
            "1335220105500905472 2020-12-05 13:50:54 +0000 <PeoplesDailyapp> The chief of #US #CDC warned on Wednesday the #COVID19, still raging with unprecedented fury nationwide, will pose the country's grimmest health crisis yet over the next few months, before the #vaccines become widely available.  https://t.co/7Mmn9PZolV\n",
            "1335220104204840960 2020-12-05 13:50:54 +0000 <AchimMuellers> Corona-Pandemie in Deutschland Reicht der \"Lockdown light\"?  https://t.co/ECJIBtL1B8 Nein! #COVID19\n",
            "1335220103227564037 2020-12-05 13:50:54 +0000 <McQHoya81> This did not have to happen but you can still impact bringing the #COVID19 pandemic to an end #MaskUp America  https://t.co/gwecOfVopy\n",
            "1335220087666651137 2020-12-05 13:50:50 +0000 <DonVaBeach> @joelockhart Do you mean the candidate that suppressed information on Covid19 for months....and ridiculed people who wore masks?\n",
            "1335220086932721664 2020-12-05 13:50:50 +0000 <grammu88> @Jim_Jordan Completely missing the point of health official's life saving messages. Disappointing to hear your irresponsible statement when so many of our fellow American are dying at mass casualty rates. Caretakers exhausted and hurting. Turning a blind eye doesn't make it go away. #COVID19\n",
            "1335220086047698952 2020-12-05 13:50:50 +0000 <Billius27> Progression of weekly case rates across Canada. #Covid19  https://t.co/1cZPcNDZIh\n",
            "1335220079823220737 2020-12-05 13:50:48 +0000 <rupamsarkar> Oops.. Is #Covaxin meant to prevent #COVID19 or other way round.. 🙊 🙈 🙉\n",
            "1335220075348025351 2020-12-05 13:50:47 +0000 <panos_ss> μάθε παιδί μου γράμματα!  🤣  https://t.co/5oDQTjsjok #COVID19  #κυβερνηση_συμμορια  https://t.co/IURUE3Ezjz\n",
            "1335220069803192326 2020-12-05 13:50:46 +0000 <isis10037_10037> After the New Moon on Dec 14, 2020 Black People you do 'not' have to Cry No more. Do 'not' put 'anything' artificial in your body, no man-made antibody molecule vaccine that is 'not' COVID19.Many things going on in the Heavens astronomically.All planets will align soon. Isis\n",
            "1335220067404046338 2020-12-05 13:50:45 +0000 <JayMidwood> Right on time.  We are starting to see the Thanksgiving impact.  #WearAMask #please #COVID19\n",
            "1335220067055747073 2020-12-05 13:50:45 +0000 <TatwamayiNews> ഗുരുവായൂരില്‍ നാളെമുതല്‍ നാലമ്ബലത്തില്‍ ഭക്തര്‍ക്ക് പ്രവേശനമില്ല; കടുത്ത നിയന്ത്രണവുമായി ദേവസ്വം  https://t.co/11WncS4BBu #guruvayoor #COVID19\n",
            "1335220064178606082 2020-12-05 13:50:45 +0000 <vlichajo> For folks who don't believe Dr Fauci...how about Bill Nye? #Science #WearAMask #ScienceMatters #BillNye #COVID19 #COVIDIOTS\n",
            "1335220063079718912 2020-12-05 13:50:44 +0000 <JohnLWheaton1> Covid19 C.E.O.  C hief  E mpathy  O fficer   Plus 100 other things   #LeadershipMatters\n",
            "1335220062714802176 2020-12-05 13:50:44 +0000 <Ancalagon_Black> @Jim_Jordan instead of this useless tweet why don't you address the fact that COVID19 is now the leading cause of death in the USA.\n",
            "1335220057526374403 2020-12-05 13:50:43 +0000 <michaelsecom> Stay home and shop online this month.   Wear a mask when getting groceries.   The #COVID19 hospitals are full in most US cities.  The non-Covid hospitals are for the regular emergencies.  Vaccines are not a cure.   https://t.co/r6vgtRnG3O  https://t.co/oMLz2wzkuO\n",
            "1335220054749818880 2020-12-05 13:50:42 +0000 <EnkiSort33> #BREAKING #BreakingNews🇺🇸#USA: 226k new cases✴️only last Friday☣️#CDC Red lights on🆘#CoronavirusPandemic #SecondWave #StayHome #StaySafe #secondlockdown #NYC #Biden #WhiteHouse #US #Americans #Canada #uk #COVIDー19 #COVID19 #WHO #Health #HealthCare #WEF  https://t.co/usa5a5pycD\n",
            "1335220051981586437 2020-12-05 13:50:42 +0000 <CupofJoeintheD2> @ResisterF @DrMcKinn @czarim1 @donwinslow @jbm32753 @katibug817 @DevinsCowsDog @doxie53 @Raymond_LLM @BulldogBen @Missin_Florida @Fix8d2020 @TeaPainUSA @CatherineResist @45Needs @1patriotblue Saturday Fiasco of #DopeyDon:  -Replaces Pentagon Board with Cronies -Gives Huge Military Contract to Erik Pence who is DeVos’s Brother -Bans Biden team from Pentagon  -Country heading into Depression  -#COVID19 279K+Dead 14M+Infected  #UNMAGA #HumptyTrumpty #TrumpIsPathetic\n",
            "1335220045325058049 2020-12-05 13:50:40 +0000 <gucchest> 今年も有馬記念のサイン馬券とか言い出す頃だけど、今年はコロナで全馬番が理由付けできそうだからどうしようもないよね 567,3密,covid19なんかはすぐ浮かぶし、最大感染者数／日がーとか自治体毎の数字がーとか言い出したらキリがない  今のところ有馬の馬券を買う気は無いけど\n",
            "1335220044717051904 2020-12-05 13:50:40 +0000 <IAM__Network> Republicans, Democrats Still At Odds Over Coronavirus Relief   READ MORE:  https://t.co/zrE9SQmWNX  #cdc #coronavirus #covid19 #mers #outbreak #pandemic #sars #ViralOutbreak #virus #who  https://t.co/Yim3KdAJUD\n",
            "1335220041785237506 2020-12-05 13:50:39 +0000 <sarahs_forest> #COVID19 #Pandemie #coronaimpfung\n",
            "1335220041147564033 2020-12-05 13:50:39 +0000 <openletterbot> 🖋 Sign “Resolution for Indian Farmers” and I’ll deliver a copy to your officials:  https://t.co/FYdgeGXbUq  📨 No. 12 is from Tanvir to @SenGaryPeters, @SenStabenow and @RepHaleyStevens #MI11 #MIpol #COVID19  https://t.co/ICuRUr4SJ4\n",
            "1335220040946372614 2020-12-05 13:50:39 +0000 <Icingdeathe> Condolences on your loss.  It's with great sadness that we contemplate how many deaths could've been avoided if only more of those in power had an ounce of empathy or intelligence.  #Covid19 #COVID #coronavirus\n",
            "1335220040824721408 2020-12-05 13:50:39 +0000 <maulreiz> Nachdem das #Impfschutzgesetz am 18. November 2020 geändert wurde, fällt es dem #BVerG natürlich leichter eine Demonstration zu verbieten zur Prävention von #COVID19. Selbstverständlich werden noch mehr Demonstrationen dadurch verboten. Grundrecht liegt verletzt am Boden.\n",
            "1335220032964587520 2020-12-05 13:50:37 +0000 <ImLookgBackAtU> As millions of elderly Americans prepare to take COVID19 vaccines that can elicit some serious post-2nd dose side-effects, LifeSiteNews has reported that a Ukrainian Greek-Catholic priest died at his PA home after participating in Moderna's vaccine trial.-  https://t.co/g6SmrnRX5H\n",
            "1335220030661922822 2020-12-05 13:50:37 +0000 <casijour> @AlexDub777 @Le___Doc @Dr_moji @DenisBrogniart @GomezMelanieE1 Vous ne vous êtes jamais dit que se détendre, cela pouvait faire du bien à ceux à qui vous vous adressez, a priori bien plus à faire face au #COVID19 que vous ? Et vous, pour faire ce genre de remarque, cela en dit quoi, de votre life ?\n",
            "1335220023267373061 2020-12-05 13:50:35 +0000 <lisaksheldon> 👇Read this thread from lab scientist #COVID19 is increasing burden on labs everywhere Sending appreciation to @PathLabAndrew and lab techs everywhere\n",
            "1335220022336135169 2020-12-05 13:50:35 +0000 <draintheCAswamp> Love this woman. She's the one who came on Tucker's program to blow the whistle on the CCP and the man-made #COVID19 virus. It appears she made another Twitter account?\n",
            "1335220006599225348 2020-12-05 13:50:31 +0000 <redial999> @simondolan So was original planning in UK until our answer to Einstein,the one and only get it wrong every time @neil_ferguson forecast 500,000 deaths would be the result. How is he still in post? #COVID19\n",
            "1335220004963356672 2020-12-05 13:50:31 +0000 <spiritof1776> RT if you're tired of being forced to wear a mask or stay at home by political hacks who abuse their own laws. Open or closed, #politicians get paid. What about you?  #COVID19 #COVID #COVIDIOTS #America #Americans #RiseUp #Patriots\n",
            "1335219996167983104 2020-12-05 13:50:28 +0000 <higgsrussell1> @jnorthcottCBC @CBCNews Stop describing a life saving and pandemic ending #vaccine as a “jab in the arm”. And then questioning “safety”. @CBC’s informal news scripts are making things worse. It’s not a #jab, dummies! #CasualPandemic #COVID19 #DumbDown #cdnpoli #fearmongers  https://t.co/Uu9KEOOJ6x\n",
            "1335219996151181313 2020-12-05 13:50:28 +0000 <JezzaThorpe> @Jacob_Rees_Mogg Well, we were, @Jacob_Rees_Mogg. No longer, alas. The @Conservatives have all but destroyed the small business in the UK due to a panicked overreaction to #COVID19. You’re a canny man, but I wonder how much of a political backlash the Tories are expecting in 2024? #EnoughIsEnough\n",
            "1335219980368044034 2020-12-05 13:50:25 +0000 <lIlIl1lIIlLIlIl> Pharma-backed \"fact-checking sites\" are pushing desinformation to dangerous levels lately.  Those people claim that deaths during test trials can absolutely not be linked to vaccines, yet PCR-Tests used for #COVID19 detection are fully accurate. Right 😂  https://t.co/KyNwRKOnHJ\n",
            "1335219979847954433 2020-12-05 13:50:25 +0000 <stormcloud2010> #Covid19 Survival Rates.....  https://t.co/HE22nxqRAa\n",
            "1335219979847917569 2020-12-05 13:50:25 +0000 <vonBardelebenRS> #COVID19 #pandemic #Deutschland #LockdownLight #insufficient #germany #RKI #ICU #hospitalcapacity #newinfections while exponential growth was blocked #spain was more efficient in reducing new covid infections by vigorous lockdown!  https://t.co/qBP31mq1OM\n",
            "1335219968577769473 2020-12-05 13:50:22 +0000 <Nanoalto> #Coronavirus, in Veneto mai così tanti decessi: 108 in 24 ore. Sono 3.607 i nuovi casi. Zaia: «L’indice Rt cala troppo lentamente»  https://t.co/jUZMDIpAQL Zaia si lamenta delle restrizioni del #dpcm ma anche del fatto che l'indice Rt cali lentamente. 👍#covid19 #coronavirus\n",
            "1335219968108097538 2020-12-05 13:50:22 +0000 <33PaullyD> this is about to blow up the twitter today #COVID19 #SputnikV #vaccines #vacation #COVID #Rosswon #Twitter  this ! #RetweeetPlease #CoronaVirusUpdates #BREAKING  https://t.co/qqiMOXBsVz\n",
            "1335219959333593088 2020-12-05 13:50:20 +0000 <Polcarp84> @camilanesas El antibiótico es para las bacterias. El Covid19 es un virus.\n",
            "1335219943193899008 2020-12-05 13:50:16 +0000 <narimoldi> Die Politik gegen #covid19 richtet weitaus mehr Schaden an, als das Virus je könnte.\n",
            "1335219941369405446 2020-12-05 13:50:15 +0000 <blocht574> And we wonder why #COVID19 rates go up! Such mixed messaging. They also told viewers where to go to see Santa in person with kids\n",
            "1335219939364442113 2020-12-05 13:50:15 +0000 <aledonetti> Brand purpose, such abused words during #COVID19 pandemic. It looks like a competition between brands. It is NOT!  I just started to write an article on that topic. Soon available.  #ConsumerCentricTransformation #BrandExperience #ConsumerEmotions\n",
            "1335219933324644354 2020-12-05 13:50:13 +0000 <TWMCLtd> #Netherlands also facing a #coronavirus resurgence in the run-up to Christmas. A huge 46% spike in new #Covid19 cases compared to last Saturday with 6,521 today's daily number.  The Dutch 7-day infection rate is now at 309 AD/M, which is higher than on 18 November\n",
            "1335219925074333696 2020-12-05 13:50:11 +0000 <KKCity> KENYATAAN MEDIA #COVID19 BAGI 5 DISEMBER 2020  https://t.co/PjexZZENj6\n",
            "1335219923572953089 2020-12-05 13:50:11 +0000 <AreMorch> What a COVID-19 Vaccine Means for the Travel Industry #travelindustry #covid19 #vaccine  https://t.co/r4usKWnyW4\n",
            "1335219923329708032 2020-12-05 13:50:11 +0000 <Bas_scordia> #FonctionPublique : pour rappel, début novembre, la ministre @AdeMontchalin semblait écarter l’hypothèse d’une suspension du jour de carence pour les seuls agents atteints du #COVID19, en raison de difficultés liées au respect du secret médical  https://t.co/tpWIloqknk\n",
            "1335219919403749379 2020-12-05 13:50:10 +0000 <marcelsalathe_d> Und #COVID19 beschäftigt uns natürlich enorm - das erste Mal vom neuen Coronavirus habe ich auf Twitter gehört. Hier die letzte Arbeit, die zeigt, wer auf Twitter am meisten Aufmerksamkeit zu diesem Thema erhält (mit @marmuel_,  noch in peer review):  https://t.co/Env9Pq609m  https://t.co/3KXygIE9dl\n",
            "1335219917017247744 2020-12-05 13:50:10 +0000 <morenitaluperon> Nada sera igual después del #Covid19. ¡Se necesita repensar muchas cosas!\n",
            "1335219907491999746 2020-12-05 13:50:07 +0000 <arora_sanam> In the middle of #COVID19 and the cold, what makes thousands of Indian farmers take to the streets in protest?   Answer ought to be easily understandable, yet misinfo ensures most don’t know WHY.   Hear frm experts on ground inc @_YogendraYadav    https://t.co/SceDq4dLhy  #Farmers  https://t.co/cIWHbP2P68\n",
            "1335219906703482880 2020-12-05 13:50:07 +0000 <haze_vapes> @SpeakerPelosi is a murderer.   @TuckerCarlson  @seanhannity  @marklevinshow  @GOPLeader  @SenateGOP #COVID19\n",
            "1335219906577567745 2020-12-05 13:50:07 +0000 <DrahnoelR> Lieber #querdenken als gar nicht denken, liebe Mitglieder der links-autoritären Filterblase. #hb0512 #weihnachten #Maskenverweigerer #COVID19 #wintersport\n",
            "1335219903398359040 2020-12-05 13:50:06 +0000 <8NewsNow> SCAM ALERT: #COVID19 vaccines are on the way — and so are the vaccine scams. Security experts are warning Americans to be on their guard and avoid offers that sound too good to be true. #8NN    https://t.co/N2QQY6JC0l\n",
            "1335219901355716608 2020-12-05 13:50:06 +0000 <COVID19_bot> Evolution of cases in Australia, Brunei, Japan, New Zealand, Singapore, since 100th confirmed case.  https://t.co/oUYUpRAhW3\n",
            "1335219897807360007 2020-12-05 13:50:05 +0000 <AlisonGeorge10> #schools #MasksInClassrooms #teachers #COVID19 #WHO\n",
            "1335219892463804430 2020-12-05 13:50:04 +0000 <SDC_TCS> Le gouvernement du Canada peut aider votre #EntrepriseCan à apprivoiser cette nouvelle réalité et à profiter des portes qu’elle peut ouvrir.    Obtenez de l’aide pendant la #COVID19 :  https://t.co/qBywTWWhft  https://t.co/s7TdE1OV7f\n",
            "1335219892350459904 2020-12-05 13:50:04 +0000 <TCS_SDC> The Government of Canada is here to help your #CdnBiz navigate this new reality and take advantage of the opportunities it may bring.   Get support during #COVID19:  https://t.co/BOCBcPOnhA  https://t.co/1sEVQcZiv1\n",
            "1335219892178595847 2020-12-05 13:50:04 +0000 <ISGLOBALorg> 💉 Vaccines against #COVID19 have been developed in record time thanks to important technological advances and experience gained.  🎙 We answer some of the questions you may have regarding their safety and efficacy on a new section in our website.  👉🏽  https://t.co/TEulzOwRX3  https://t.co/n3tP1moZCz\n",
            "1335219891666710529 2020-12-05 13:50:04 +0000 <sri50> #COVID19 cases in #TN today 1,364  *Daily case count drops under 1,400!  Samples Tested   70,881  Active Cases 10,882  #Chennai cases Today 353\n",
            "1335219890840510468 2020-12-05 13:50:03 +0000 <BrazenJatin> @ShefVaidya @BJP4India @Dev_Fadnavis @ChDadaPatil Ravish kumar is so precious to congress and ndtv that due to covid19, they did not send him to bihar this time,ndtv sent others, ravish is main person who can make congress do well in 2024, had he gone to bihar, bjp would have lost in bihar, this time too  Cc @VikasSaraswat\n",
            "1335219888898650112 2020-12-05 13:50:03 +0000 <IchWillDasNich2> #Merkel wieder... Kurz angemerkt: Die #Coronahilfen Für November würden noch nicht ausgezahlt...  #COVID19 #Coronakrise   https://t.co/CPSN8flmZ7\n",
            "1335219886272995328 2020-12-05 13:50:02 +0000 <FormalNews24> Many Indians Keen On Going To UK To Get Covid Vaccine: Travel Agents  #formalnews #newsupdate #dailynews #indianews #sanvadata #letestnews #indians #covid19 #covid19vaccine #travelagents  https://t.co/S0V8Z4Xoqp\n",
            "1335219886268837889 2020-12-05 13:50:02 +0000 <SanteOntarioSO> Grâce aux partenaires du réseau de laboratoires de l’Ontario, nous progressons dans les tests. Lisez notre dernière mise à jour aux hôpitaux pour savoir comment nous priorisons les délais d'exécution des tests et plus encore.  https://t.co/Zqn7NUXAEd #SantéOntario #COVID19  https://t.co/dkgrb9brHk\n",
            "1335219886193332225 2020-12-05 13:50:02 +0000 <OntarioHealthOH> Thanks to lab network partners across Ontario, we’re making progress on #COVID19 testing. Read our latest update to hospitals to learn about how we’re prioritizing test turnaround times and more.  https://t.co/u8F14gkqdC #OntarioHealth  https://t.co/rYkPbyQBcV\n",
            "1335219884184178688 2020-12-05 13:50:02 +0000 <lainierowell> This was 1st tweeted by @edutopia in 2015 &amp; every time they posted it, educators agreed with hundreds of retweets.🙌 This is still 💯true &amp; now we can Zoom into each other’s classes! How are you learning from/with your peers during #COVID19? #BetterTogether #LearningFromPeers\n",
            "1335219884150714368 2020-12-05 13:50:02 +0000 <PharmaciendeF> Quatre stratégies principales ont été utilisées pour produire les candidats vaccins contre la #Covid19, dont une totalement innovante testée pour la première fois chez l’homme.   https://t.co/oBz4bOAheM\n"
          ],
          "name": "stdout"
        }
      ]
    },
    {
      "cell_type": "markdown",
      "metadata": {
        "id": "o6B_mLGAX5aU"
      },
      "source": [
        "Todos os tweets serão exibidos. É possível salvar o resultado do tweet no formato .csv usando salvar configuração. No entanto, aqui estou salvando os resultados em pandas, escrevendo nossa própria função."
      ]
    },
    {
      "cell_type": "code",
      "metadata": {
        "id": "YCAUF4gTNuYJ"
      },
      "source": [
        "def columne_names():\n",
        "    return twint.output.panda.Tweets_df.columns\n",
        "\n",
        "def twint_to_pd(columns):\n",
        "    return twint.output.panda.Tweets_df[columns]"
      ],
      "execution_count": null,
      "outputs": []
    },
    {
      "cell_type": "markdown",
      "metadata": {
        "id": "4RTp_WSiYAuO"
      },
      "source": [
        "Isso exibirá todas as colunas da consulta que acabamos de fazer."
      ]
    },
    {
      "cell_type": "code",
      "metadata": {
        "id": "hGj5lMKaQEm4"
      },
      "source": [
        "columns = columne_names()"
      ],
      "execution_count": null,
      "outputs": []
    },
    {
      "cell_type": "markdown",
      "metadata": {
        "id": "tqoj_sejYMsL"
      },
      "source": [
        "Estes são os diferentes dados disponíveis com o tweet que extraímos. No entanto, estamos apenas interessados ​​em dados de “tweet”. Transformaremos a coluna na qual estou inserido de Twint em Pandas executando:"
      ]
    },
    {
      "cell_type": "code",
      "metadata": {
        "id": "dqV4Iy_eQFZ7"
      },
      "source": [
        "data= twint_to_pd(columns=columns)"
      ],
      "execution_count": null,
      "outputs": []
    },
    {
      "cell_type": "code",
      "metadata": {
        "colab": {
          "base_uri": "https://localhost:8080/",
          "height": 1000
        },
        "id": "imknRk9LLJ3T",
        "outputId": "70d79b09-7027-4216-de6e-862efad01192"
      },
      "source": [
        "data"
      ],
      "execution_count": null,
      "outputs": [
        {
          "output_type": "execute_result",
          "data": {
            "text/html": [
              "<div>\n",
              "<style scoped>\n",
              "    .dataframe tbody tr th:only-of-type {\n",
              "        vertical-align: middle;\n",
              "    }\n",
              "\n",
              "    .dataframe tbody tr th {\n",
              "        vertical-align: top;\n",
              "    }\n",
              "\n",
              "    .dataframe thead th {\n",
              "        text-align: right;\n",
              "    }\n",
              "</style>\n",
              "<table border=\"1\" class=\"dataframe\">\n",
              "  <thead>\n",
              "    <tr style=\"text-align: right;\">\n",
              "      <th></th>\n",
              "      <th>id</th>\n",
              "      <th>conversation_id</th>\n",
              "      <th>created_at</th>\n",
              "      <th>date</th>\n",
              "      <th>timezone</th>\n",
              "      <th>place</th>\n",
              "      <th>tweet</th>\n",
              "      <th>language</th>\n",
              "      <th>hashtags</th>\n",
              "      <th>cashtags</th>\n",
              "      <th>user_id</th>\n",
              "      <th>user_id_str</th>\n",
              "      <th>username</th>\n",
              "      <th>name</th>\n",
              "      <th>day</th>\n",
              "      <th>hour</th>\n",
              "      <th>link</th>\n",
              "      <th>urls</th>\n",
              "      <th>photos</th>\n",
              "      <th>video</th>\n",
              "      <th>thumbnail</th>\n",
              "      <th>retweet</th>\n",
              "      <th>nlikes</th>\n",
              "      <th>nreplies</th>\n",
              "      <th>nretweets</th>\n",
              "      <th>quote_url</th>\n",
              "      <th>search</th>\n",
              "      <th>near</th>\n",
              "      <th>geo</th>\n",
              "      <th>source</th>\n",
              "      <th>user_rt_id</th>\n",
              "      <th>user_rt</th>\n",
              "      <th>retweet_id</th>\n",
              "      <th>reply_to</th>\n",
              "      <th>retweet_date</th>\n",
              "      <th>translate</th>\n",
              "      <th>trans_src</th>\n",
              "      <th>trans_dest</th>\n",
              "    </tr>\n",
              "  </thead>\n",
              "  <tbody>\n",
              "    <tr>\n",
              "      <th>0</th>\n",
              "      <td>1335220222983241731</td>\n",
              "      <td>1335220222983241731</td>\n",
              "      <td>1.607176e+12</td>\n",
              "      <td>2020-12-05 13:51:23</td>\n",
              "      <td>+0000</td>\n",
              "      <td></td>\n",
              "      <td>Vaccine will arrive #Gujarat within few weeks,...</td>\n",
              "      <td>en</td>\n",
              "      <td>[gujarat, coronavaccine, covidvaccine, covid19]</td>\n",
              "      <td>[]</td>\n",
              "      <td>346406417</td>\n",
              "      <td>346406417</td>\n",
              "      <td>tv9gujarati</td>\n",
              "      <td>tv9gujarati</td>\n",
              "      <td>6</td>\n",
              "      <td>13</td>\n",
              "      <td>https://twitter.com/tv9gujarati/status/1335220...</td>\n",
              "      <td>[]</td>\n",
              "      <td>[]</td>\n",
              "      <td>1</td>\n",
              "      <td>https://pbs.twimg.com/amplify_video_thumb/1335...</td>\n",
              "      <td>False</td>\n",
              "      <td>0</td>\n",
              "      <td>0</td>\n",
              "      <td>0</td>\n",
              "      <td></td>\n",
              "      <td>COVID19</td>\n",
              "      <td></td>\n",
              "      <td></td>\n",
              "      <td></td>\n",
              "      <td></td>\n",
              "      <td></td>\n",
              "      <td></td>\n",
              "      <td>[]</td>\n",
              "      <td></td>\n",
              "      <td></td>\n",
              "      <td></td>\n",
              "      <td></td>\n",
              "    </tr>\n",
              "    <tr>\n",
              "      <th>1</th>\n",
              "      <td>1335220213122535428</td>\n",
              "      <td>1335220213122535428</td>\n",
              "      <td>1.607176e+12</td>\n",
              "      <td>2020-12-05 13:51:20</td>\n",
              "      <td>+0000</td>\n",
              "      <td></td>\n",
              "      <td>Rússia começou a vacinação em massa contra o C...</td>\n",
              "      <td>pt</td>\n",
              "      <td>[]</td>\n",
              "      <td>[]</td>\n",
              "      <td>1196918850996060161</td>\n",
              "      <td>1196918850996060161</td>\n",
              "      <td>SanHelenDa</td>\n",
              "      <td>Sandruska 💯%Lula13</td>\n",
              "      <td>6</td>\n",
              "      <td>13</td>\n",
              "      <td>https://twitter.com/SanHelenDa/status/13352202...</td>\n",
              "      <td>[]</td>\n",
              "      <td>[]</td>\n",
              "      <td>0</td>\n",
              "      <td></td>\n",
              "      <td>False</td>\n",
              "      <td>0</td>\n",
              "      <td>0</td>\n",
              "      <td>0</td>\n",
              "      <td>https://twitter.com/Reuters/status/13351934733...</td>\n",
              "      <td>COVID19</td>\n",
              "      <td></td>\n",
              "      <td></td>\n",
              "      <td></td>\n",
              "      <td></td>\n",
              "      <td></td>\n",
              "      <td></td>\n",
              "      <td>[]</td>\n",
              "      <td></td>\n",
              "      <td></td>\n",
              "      <td></td>\n",
              "      <td></td>\n",
              "    </tr>\n",
              "    <tr>\n",
              "      <th>2</th>\n",
              "      <td>1335220207854477314</td>\n",
              "      <td>1335219844124471296</td>\n",
              "      <td>1.607176e+12</td>\n",
              "      <td>2020-12-05 13:51:19</td>\n",
              "      <td>+0000</td>\n",
              "      <td></td>\n",
              "      <td>@seanhannity instead of this useless tweet why...</td>\n",
              "      <td>en</td>\n",
              "      <td>[]</td>\n",
              "      <td>[]</td>\n",
              "      <td>30066999</td>\n",
              "      <td>30066999</td>\n",
              "      <td>Ancalagon_Black</td>\n",
              "      <td>Gary H. Kramer</td>\n",
              "      <td>6</td>\n",
              "      <td>13</td>\n",
              "      <td>https://twitter.com/Ancalagon_Black/status/133...</td>\n",
              "      <td>[]</td>\n",
              "      <td>[]</td>\n",
              "      <td>0</td>\n",
              "      <td></td>\n",
              "      <td>False</td>\n",
              "      <td>0</td>\n",
              "      <td>0</td>\n",
              "      <td>0</td>\n",
              "      <td></td>\n",
              "      <td>COVID19</td>\n",
              "      <td></td>\n",
              "      <td></td>\n",
              "      <td></td>\n",
              "      <td></td>\n",
              "      <td></td>\n",
              "      <td></td>\n",
              "      <td>[{'screen_name': 'seanhannity', 'name': 'Sean ...</td>\n",
              "      <td></td>\n",
              "      <td></td>\n",
              "      <td></td>\n",
              "      <td></td>\n",
              "    </tr>\n",
              "    <tr>\n",
              "      <th>3</th>\n",
              "      <td>1335220203135832064</td>\n",
              "      <td>1334945518619865092</td>\n",
              "      <td>1.607176e+12</td>\n",
              "      <td>2020-12-05 13:51:18</td>\n",
              "      <td>+0000</td>\n",
              "      <td></td>\n",
              "      <td>@Acosta Saturday Fiasco of #DopeyDon:  -Replac...</td>\n",
              "      <td>en</td>\n",
              "      <td>[dopeydon, covid19, unmaga, humptytrumpty, tru...</td>\n",
              "      <td>[]</td>\n",
              "      <td>1011952996907962369</td>\n",
              "      <td>1011952996907962369</td>\n",
              "      <td>CupofJoeintheD2</td>\n",
              "      <td>TheCupofJoeintheD</td>\n",
              "      <td>6</td>\n",
              "      <td>13</td>\n",
              "      <td>https://twitter.com/CupofJoeintheD2/status/133...</td>\n",
              "      <td>[]</td>\n",
              "      <td>[]</td>\n",
              "      <td>0</td>\n",
              "      <td></td>\n",
              "      <td>False</td>\n",
              "      <td>0</td>\n",
              "      <td>0</td>\n",
              "      <td>0</td>\n",
              "      <td></td>\n",
              "      <td>COVID19</td>\n",
              "      <td></td>\n",
              "      <td></td>\n",
              "      <td></td>\n",
              "      <td></td>\n",
              "      <td></td>\n",
              "      <td></td>\n",
              "      <td>[{'screen_name': 'Acosta', 'name': 'Jim Acosta...</td>\n",
              "      <td></td>\n",
              "      <td></td>\n",
              "      <td></td>\n",
              "      <td></td>\n",
              "    </tr>\n",
              "    <tr>\n",
              "      <th>4</th>\n",
              "      <td>1335220203047641089</td>\n",
              "      <td>1335177293120024576</td>\n",
              "      <td>1.607176e+12</td>\n",
              "      <td>2020-12-05 13:51:18</td>\n",
              "      <td>+0000</td>\n",
              "      <td></td>\n",
              "      <td>@LionelMedia @margmulc12 Nope, no one hospital...</td>\n",
              "      <td>en</td>\n",
              "      <td>[covid19, lies, bamboozled]</td>\n",
              "      <td>[]</td>\n",
              "      <td>327075316</td>\n",
              "      <td>327075316</td>\n",
              "      <td>EricFerrera</td>\n",
              "      <td>E.McGoates</td>\n",
              "      <td>6</td>\n",
              "      <td>13</td>\n",
              "      <td>https://twitter.com/EricFerrera/status/1335220...</td>\n",
              "      <td>[]</td>\n",
              "      <td>[https://pbs.twimg.com/media/EoensrgUYAkVz06.jpg]</td>\n",
              "      <td>1</td>\n",
              "      <td>https://pbs.twimg.com/media/EoensrgUYAkVz06.jpg</td>\n",
              "      <td>False</td>\n",
              "      <td>0</td>\n",
              "      <td>0</td>\n",
              "      <td>0</td>\n",
              "      <td></td>\n",
              "      <td>COVID19</td>\n",
              "      <td></td>\n",
              "      <td></td>\n",
              "      <td></td>\n",
              "      <td></td>\n",
              "      <td></td>\n",
              "      <td></td>\n",
              "      <td>[{'screen_name': 'LionelMedia', 'name': '🇺🇸Lio...</td>\n",
              "      <td></td>\n",
              "      <td></td>\n",
              "      <td></td>\n",
              "      <td></td>\n",
              "    </tr>\n",
              "    <tr>\n",
              "      <th>...</th>\n",
              "      <td>...</td>\n",
              "      <td>...</td>\n",
              "      <td>...</td>\n",
              "      <td>...</td>\n",
              "      <td>...</td>\n",
              "      <td>...</td>\n",
              "      <td>...</td>\n",
              "      <td>...</td>\n",
              "      <td>...</td>\n",
              "      <td>...</td>\n",
              "      <td>...</td>\n",
              "      <td>...</td>\n",
              "      <td>...</td>\n",
              "      <td>...</td>\n",
              "      <td>...</td>\n",
              "      <td>...</td>\n",
              "      <td>...</td>\n",
              "      <td>...</td>\n",
              "      <td>...</td>\n",
              "      <td>...</td>\n",
              "      <td>...</td>\n",
              "      <td>...</td>\n",
              "      <td>...</td>\n",
              "      <td>...</td>\n",
              "      <td>...</td>\n",
              "      <td>...</td>\n",
              "      <td>...</td>\n",
              "      <td>...</td>\n",
              "      <td>...</td>\n",
              "      <td>...</td>\n",
              "      <td>...</td>\n",
              "      <td>...</td>\n",
              "      <td>...</td>\n",
              "      <td>...</td>\n",
              "      <td>...</td>\n",
              "      <td>...</td>\n",
              "      <td>...</td>\n",
              "      <td>...</td>\n",
              "    </tr>\n",
              "    <tr>\n",
              "      <th>95</th>\n",
              "      <td>1335219886272995328</td>\n",
              "      <td>1335219886272995328</td>\n",
              "      <td>1.607176e+12</td>\n",
              "      <td>2020-12-05 13:50:02</td>\n",
              "      <td>+0000</td>\n",
              "      <td></td>\n",
              "      <td>Many Indians Keen On Going To UK To Get Covid ...</td>\n",
              "      <td>en</td>\n",
              "      <td>[formalnews, newsupdate, dailynews, indianews,...</td>\n",
              "      <td>[]</td>\n",
              "      <td>1260634549597491202</td>\n",
              "      <td>1260634549597491202</td>\n",
              "      <td>FormalNews24</td>\n",
              "      <td>Formal News</td>\n",
              "      <td>6</td>\n",
              "      <td>13</td>\n",
              "      <td>https://twitter.com/FormalNews24/status/133521...</td>\n",
              "      <td>[]</td>\n",
              "      <td>[https://pbs.twimg.com/media/EoenaTMW8AEJJwo.jpg]</td>\n",
              "      <td>1</td>\n",
              "      <td>https://pbs.twimg.com/media/EoenaTMW8AEJJwo.jpg</td>\n",
              "      <td>False</td>\n",
              "      <td>0</td>\n",
              "      <td>0</td>\n",
              "      <td>0</td>\n",
              "      <td></td>\n",
              "      <td>COVID19</td>\n",
              "      <td></td>\n",
              "      <td></td>\n",
              "      <td></td>\n",
              "      <td></td>\n",
              "      <td></td>\n",
              "      <td></td>\n",
              "      <td>[]</td>\n",
              "      <td></td>\n",
              "      <td></td>\n",
              "      <td></td>\n",
              "      <td></td>\n",
              "    </tr>\n",
              "    <tr>\n",
              "      <th>96</th>\n",
              "      <td>1335219886268837889</td>\n",
              "      <td>1335219886268837889</td>\n",
              "      <td>1.607176e+12</td>\n",
              "      <td>2020-12-05 13:50:02</td>\n",
              "      <td>+0000</td>\n",
              "      <td></td>\n",
              "      <td>Grâce aux partenaires du réseau de laboratoire...</td>\n",
              "      <td>fr</td>\n",
              "      <td>[santéontario, covid19]</td>\n",
              "      <td>[]</td>\n",
              "      <td>1569044216</td>\n",
              "      <td>1569044216</td>\n",
              "      <td>SanteOntarioSO</td>\n",
              "      <td>Santé Ontario</td>\n",
              "      <td>6</td>\n",
              "      <td>13</td>\n",
              "      <td>https://twitter.com/SanteOntarioSO/status/1335...</td>\n",
              "      <td>[http://ow.ly/NNdo50CD8Y3]</td>\n",
              "      <td>[https://pbs.twimg.com/media/EoenaSsXMAAO7pY.jpg]</td>\n",
              "      <td>1</td>\n",
              "      <td>https://pbs.twimg.com/media/EoenaSsXMAAO7pY.jpg</td>\n",
              "      <td>False</td>\n",
              "      <td>0</td>\n",
              "      <td>0</td>\n",
              "      <td>0</td>\n",
              "      <td></td>\n",
              "      <td>COVID19</td>\n",
              "      <td></td>\n",
              "      <td></td>\n",
              "      <td></td>\n",
              "      <td></td>\n",
              "      <td></td>\n",
              "      <td></td>\n",
              "      <td>[]</td>\n",
              "      <td></td>\n",
              "      <td></td>\n",
              "      <td></td>\n",
              "      <td></td>\n",
              "    </tr>\n",
              "    <tr>\n",
              "      <th>97</th>\n",
              "      <td>1335219886193332225</td>\n",
              "      <td>1335219886193332225</td>\n",
              "      <td>1.607176e+12</td>\n",
              "      <td>2020-12-05 13:50:02</td>\n",
              "      <td>+0000</td>\n",
              "      <td></td>\n",
              "      <td>Thanks to lab network partners across Ontario,...</td>\n",
              "      <td>en</td>\n",
              "      <td>[covid19, ontariohealth]</td>\n",
              "      <td>[]</td>\n",
              "      <td>1568960600</td>\n",
              "      <td>1568960600</td>\n",
              "      <td>OntarioHealthOH</td>\n",
              "      <td>Ontario Health</td>\n",
              "      <td>6</td>\n",
              "      <td>13</td>\n",
              "      <td>https://twitter.com/OntarioHealthOH/status/133...</td>\n",
              "      <td>[http://ow.ly/ySll50CD93Q]</td>\n",
              "      <td>[https://pbs.twimg.com/media/EoenaTMWEAcPues.jpg]</td>\n",
              "      <td>1</td>\n",
              "      <td>https://pbs.twimg.com/media/EoenaTMWEAcPues.jpg</td>\n",
              "      <td>False</td>\n",
              "      <td>0</td>\n",
              "      <td>0</td>\n",
              "      <td>0</td>\n",
              "      <td></td>\n",
              "      <td>COVID19</td>\n",
              "      <td></td>\n",
              "      <td></td>\n",
              "      <td></td>\n",
              "      <td></td>\n",
              "      <td></td>\n",
              "      <td></td>\n",
              "      <td>[]</td>\n",
              "      <td></td>\n",
              "      <td></td>\n",
              "      <td></td>\n",
              "      <td></td>\n",
              "    </tr>\n",
              "    <tr>\n",
              "      <th>98</th>\n",
              "      <td>1335219884184178688</td>\n",
              "      <td>1335219884184178688</td>\n",
              "      <td>1.607176e+12</td>\n",
              "      <td>2020-12-05 13:50:02</td>\n",
              "      <td>+0000</td>\n",
              "      <td></td>\n",
              "      <td>This was 1st tweeted by @edutopia in 2015 &amp;amp...</td>\n",
              "      <td>en</td>\n",
              "      <td>[covid19, bettertogether, learningfrompeers]</td>\n",
              "      <td>[]</td>\n",
              "      <td>8211532</td>\n",
              "      <td>8211532</td>\n",
              "      <td>lainierowell</td>\n",
              "      <td>Lainie Rowell</td>\n",
              "      <td>6</td>\n",
              "      <td>13</td>\n",
              "      <td>https://twitter.com/lainierowell/status/133521...</td>\n",
              "      <td>[]</td>\n",
              "      <td>[]</td>\n",
              "      <td>0</td>\n",
              "      <td></td>\n",
              "      <td>False</td>\n",
              "      <td>0</td>\n",
              "      <td>0</td>\n",
              "      <td>0</td>\n",
              "      <td></td>\n",
              "      <td>COVID19</td>\n",
              "      <td></td>\n",
              "      <td></td>\n",
              "      <td></td>\n",
              "      <td></td>\n",
              "      <td></td>\n",
              "      <td></td>\n",
              "      <td>[]</td>\n",
              "      <td></td>\n",
              "      <td></td>\n",
              "      <td></td>\n",
              "      <td></td>\n",
              "    </tr>\n",
              "    <tr>\n",
              "      <th>99</th>\n",
              "      <td>1335219884150714368</td>\n",
              "      <td>1335219884150714368</td>\n",
              "      <td>1.607176e+12</td>\n",
              "      <td>2020-12-05 13:50:02</td>\n",
              "      <td>+0000</td>\n",
              "      <td></td>\n",
              "      <td>Quatre stratégies principales ont été utilisée...</td>\n",
              "      <td>fr</td>\n",
              "      <td>[covid19]</td>\n",
              "      <td>[]</td>\n",
              "      <td>1339508364</td>\n",
              "      <td>1339508364</td>\n",
              "      <td>PharmaciendeF</td>\n",
              "      <td>Le Pharmacien de France</td>\n",
              "      <td>6</td>\n",
              "      <td>13</td>\n",
              "      <td>https://twitter.com/PharmaciendeF/status/13352...</td>\n",
              "      <td>[http://ow.ly/N5cE50CDwxl]</td>\n",
              "      <td>[]</td>\n",
              "      <td>0</td>\n",
              "      <td></td>\n",
              "      <td>False</td>\n",
              "      <td>0</td>\n",
              "      <td>0</td>\n",
              "      <td>0</td>\n",
              "      <td></td>\n",
              "      <td>COVID19</td>\n",
              "      <td></td>\n",
              "      <td></td>\n",
              "      <td></td>\n",
              "      <td></td>\n",
              "      <td></td>\n",
              "      <td></td>\n",
              "      <td>[]</td>\n",
              "      <td></td>\n",
              "      <td></td>\n",
              "      <td></td>\n",
              "      <td></td>\n",
              "    </tr>\n",
              "  </tbody>\n",
              "</table>\n",
              "<p>100 rows × 38 columns</p>\n",
              "</div>"
            ],
            "text/plain": [
              "                     id      conversation_id  ...  trans_src trans_dest\n",
              "0   1335220222983241731  1335220222983241731  ...                      \n",
              "1   1335220213122535428  1335220213122535428  ...                      \n",
              "2   1335220207854477314  1335219844124471296  ...                      \n",
              "3   1335220203135832064  1334945518619865092  ...                      \n",
              "4   1335220203047641089  1335177293120024576  ...                      \n",
              "..                  ...                  ...  ...        ...        ...\n",
              "95  1335219886272995328  1335219886272995328  ...                      \n",
              "96  1335219886268837889  1335219886268837889  ...                      \n",
              "97  1335219886193332225  1335219886193332225  ...                      \n",
              "98  1335219884184178688  1335219884184178688  ...                      \n",
              "99  1335219884150714368  1335219884150714368  ...                      \n",
              "\n",
              "[100 rows x 38 columns]"
            ]
          },
          "metadata": {
            "tags": []
          },
          "execution_count": 36
        }
      ]
    },
    {
      "cell_type": "code",
      "metadata": {
        "id": "M4BGPlD3_ERJ"
      },
      "source": [
        "data.to_csv('nome_csv.csv',index=False,)"
      ],
      "execution_count": null,
      "outputs": []
    },
    {
      "cell_type": "code",
      "metadata": {
        "colab": {
          "base_uri": "https://localhost:8080/",
          "height": 808
        },
        "id": "yeeRNHR5RLtT",
        "outputId": "59c5f846-e561-4247-95ed-b577331369a9"
      },
      "source": [
        "data.head(100)"
      ],
      "execution_count": null,
      "outputs": [
        {
          "output_type": "execute_result",
          "data": {
            "text/html": [
              "<div>\n",
              "<style scoped>\n",
              "    .dataframe tbody tr th:only-of-type {\n",
              "        vertical-align: middle;\n",
              "    }\n",
              "\n",
              "    .dataframe tbody tr th {\n",
              "        vertical-align: top;\n",
              "    }\n",
              "\n",
              "    .dataframe thead th {\n",
              "        text-align: right;\n",
              "    }\n",
              "</style>\n",
              "<table border=\"1\" class=\"dataframe\">\n",
              "  <thead>\n",
              "    <tr style=\"text-align: right;\">\n",
              "      <th></th>\n",
              "      <th>id</th>\n",
              "      <th>conversation_id</th>\n",
              "      <th>created_at</th>\n",
              "      <th>date</th>\n",
              "      <th>timezone</th>\n",
              "      <th>place</th>\n",
              "      <th>tweet</th>\n",
              "      <th>language</th>\n",
              "      <th>hashtags</th>\n",
              "      <th>cashtags</th>\n",
              "      <th>user_id</th>\n",
              "      <th>user_id_str</th>\n",
              "      <th>username</th>\n",
              "      <th>name</th>\n",
              "      <th>day</th>\n",
              "      <th>hour</th>\n",
              "      <th>link</th>\n",
              "      <th>urls</th>\n",
              "      <th>photos</th>\n",
              "      <th>video</th>\n",
              "      <th>thumbnail</th>\n",
              "      <th>retweet</th>\n",
              "      <th>nlikes</th>\n",
              "      <th>nreplies</th>\n",
              "      <th>nretweets</th>\n",
              "      <th>quote_url</th>\n",
              "      <th>search</th>\n",
              "      <th>near</th>\n",
              "      <th>geo</th>\n",
              "      <th>source</th>\n",
              "      <th>user_rt_id</th>\n",
              "      <th>user_rt</th>\n",
              "      <th>retweet_id</th>\n",
              "      <th>reply_to</th>\n",
              "      <th>retweet_date</th>\n",
              "      <th>translate</th>\n",
              "      <th>trans_src</th>\n",
              "      <th>trans_dest</th>\n",
              "    </tr>\n",
              "  </thead>\n",
              "  <tbody>\n",
              "    <tr>\n",
              "      <th>0</th>\n",
              "      <td>1335202036669960193</td>\n",
              "      <td>1335048948801818630</td>\n",
              "      <td>1.607172e+12</td>\n",
              "      <td>2020-12-05 12:39:07</td>\n",
              "      <td>+0000</td>\n",
              "      <td></td>\n",
              "      <td>@pqpxoao Obrigadoooo amor 😭😍</td>\n",
              "      <td>pt</td>\n",
              "      <td>[]</td>\n",
              "      <td>[]</td>\n",
              "      <td>744078534</td>\n",
              "      <td>744078534</td>\n",
              "      <td>blockedbybanks</td>\n",
              "      <td>Andrea Sachs de Belford Roxo</td>\n",
              "      <td>6</td>\n",
              "      <td>12</td>\n",
              "      <td>https://twitter.com/blockedbybanks/status/1335...</td>\n",
              "      <td>[]</td>\n",
              "      <td>[]</td>\n",
              "      <td>0</td>\n",
              "      <td></td>\n",
              "      <td>False</td>\n",
              "      <td>0</td>\n",
              "      <td>0</td>\n",
              "      <td>0</td>\n",
              "      <td></td>\n",
              "      <td>Belford Roxo</td>\n",
              "      <td></td>\n",
              "      <td></td>\n",
              "      <td></td>\n",
              "      <td></td>\n",
              "      <td></td>\n",
              "      <td></td>\n",
              "      <td>[{'screen_name': 'pqpxoao', 'name': 'Pedro Car...</td>\n",
              "      <td></td>\n",
              "      <td></td>\n",
              "      <td></td>\n",
              "      <td></td>\n",
              "    </tr>\n",
              "    <tr>\n",
              "      <th>1</th>\n",
              "      <td>1335200592424275968</td>\n",
              "      <td>1335200589119180801</td>\n",
              "      <td>1.607172e+12</td>\n",
              "      <td>2020-12-05 12:33:22</td>\n",
              "      <td>+0000</td>\n",
              "      <td></td>\n",
              "      <td>Nos siga no Instagram:  https://t.co/PMwO3QZ4Z...</td>\n",
              "      <td>pt</td>\n",
              "      <td>[]</td>\n",
              "      <td>[]</td>\n",
              "      <td>1163881658581442562</td>\n",
              "      <td>1163881658581442562</td>\n",
              "      <td>lorenafashionmf</td>\n",
              "      <td>Loja Lorena Fashion ✨🛍</td>\n",
              "      <td>6</td>\n",
              "      <td>12</td>\n",
              "      <td>https://twitter.com/lorenafashionmf/status/133...</td>\n",
              "      <td>[http://www.instagram.com/lorenafashion_09]</td>\n",
              "      <td>[]</td>\n",
              "      <td>0</td>\n",
              "      <td></td>\n",
              "      <td>False</td>\n",
              "      <td>0</td>\n",
              "      <td>0</td>\n",
              "      <td>0</td>\n",
              "      <td></td>\n",
              "      <td>Belford Roxo</td>\n",
              "      <td></td>\n",
              "      <td></td>\n",
              "      <td></td>\n",
              "      <td></td>\n",
              "      <td></td>\n",
              "      <td></td>\n",
              "      <td>[]</td>\n",
              "      <td></td>\n",
              "      <td></td>\n",
              "      <td></td>\n",
              "      <td></td>\n",
              "    </tr>\n",
              "    <tr>\n",
              "      <th>2</th>\n",
              "      <td>1335200179524407298</td>\n",
              "      <td>1335200179524407298</td>\n",
              "      <td>1.607172e+12</td>\n",
              "      <td>2020-12-05 12:31:44</td>\n",
              "      <td>+0000</td>\n",
              "      <td></td>\n",
              "      <td>- Mora aonde ?  - Belford roxo!  - la e tranqu...</td>\n",
              "      <td>pt</td>\n",
              "      <td>[]</td>\n",
              "      <td>[]</td>\n",
              "      <td>1091674945506160640</td>\n",
              "      <td>1091674945506160640</td>\n",
              "      <td>Julioce08719034</td>\n",
              "      <td>#nataldacorte 24/12 🔥🥵</td>\n",
              "      <td>6</td>\n",
              "      <td>12</td>\n",
              "      <td>https://twitter.com/Julioce08719034/status/133...</td>\n",
              "      <td>[]</td>\n",
              "      <td>[https://pbs.twimg.com/media/EoeVfJBWEAEVn59.jpg]</td>\n",
              "      <td>1</td>\n",
              "      <td>https://pbs.twimg.com/media/EoeVfJBWEAEVn59.jpg</td>\n",
              "      <td>False</td>\n",
              "      <td>0</td>\n",
              "      <td>0</td>\n",
              "      <td>0</td>\n",
              "      <td></td>\n",
              "      <td>Belford Roxo</td>\n",
              "      <td></td>\n",
              "      <td></td>\n",
              "      <td></td>\n",
              "      <td></td>\n",
              "      <td></td>\n",
              "      <td></td>\n",
              "      <td>[]</td>\n",
              "      <td></td>\n",
              "      <td></td>\n",
              "      <td></td>\n",
              "      <td></td>\n",
              "    </tr>\n",
              "    <tr>\n",
              "      <th>3</th>\n",
              "      <td>1335191485671763968</td>\n",
              "      <td>1335191060570574849</td>\n",
              "      <td>1.607169e+12</td>\n",
              "      <td>2020-12-05 11:57:11</td>\n",
              "      <td>+0000</td>\n",
              "      <td></td>\n",
              "      <td>@lxcarvalho nossa eu preciso ir tbm, mas só de...</td>\n",
              "      <td>pt</td>\n",
              "      <td>[]</td>\n",
              "      <td>[]</td>\n",
              "      <td>1155170029677289472</td>\n",
              "      <td>1155170029677289472</td>\n",
              "      <td>m4ciiel</td>\n",
              "      <td>di bxd</td>\n",
              "      <td>6</td>\n",
              "      <td>11</td>\n",
              "      <td>https://twitter.com/m4ciiel/status/13351914856...</td>\n",
              "      <td>[]</td>\n",
              "      <td>[]</td>\n",
              "      <td>0</td>\n",
              "      <td></td>\n",
              "      <td>False</td>\n",
              "      <td>0</td>\n",
              "      <td>1</td>\n",
              "      <td>0</td>\n",
              "      <td></td>\n",
              "      <td>Belford Roxo</td>\n",
              "      <td></td>\n",
              "      <td></td>\n",
              "      <td></td>\n",
              "      <td></td>\n",
              "      <td></td>\n",
              "      <td></td>\n",
              "      <td>[{'screen_name': 'lxcarvalho', 'name': 'Luana ...</td>\n",
              "      <td></td>\n",
              "      <td></td>\n",
              "      <td></td>\n",
              "      <td></td>\n",
              "    </tr>\n",
              "    <tr>\n",
              "      <th>4</th>\n",
              "      <td>1335184746859671552</td>\n",
              "      <td>1335184746859671552</td>\n",
              "      <td>1.607168e+12</td>\n",
              "      <td>2020-12-05 11:30:24</td>\n",
              "      <td>+0000</td>\n",
              "      <td></td>\n",
              "      <td>Esses tipo de doido que deveria ter em Belford...</td>\n",
              "      <td>pt</td>\n",
              "      <td>[]</td>\n",
              "      <td>[]</td>\n",
              "      <td>999832661131710465</td>\n",
              "      <td>999832661131710465</td>\n",
              "      <td>DessaLeittte</td>\n",
              "      <td>dsá 🦋| insta 📸: @dessa.leitte</td>\n",
              "      <td>6</td>\n",
              "      <td>11</td>\n",
              "      <td>https://twitter.com/DessaLeittte/status/133518...</td>\n",
              "      <td>[]</td>\n",
              "      <td>[]</td>\n",
              "      <td>0</td>\n",
              "      <td></td>\n",
              "      <td>False</td>\n",
              "      <td>3</td>\n",
              "      <td>1</td>\n",
              "      <td>0</td>\n",
              "      <td>https://twitter.com/strelamsa/status/133430716...</td>\n",
              "      <td>Belford Roxo</td>\n",
              "      <td></td>\n",
              "      <td></td>\n",
              "      <td></td>\n",
              "      <td></td>\n",
              "      <td></td>\n",
              "      <td></td>\n",
              "      <td>[]</td>\n",
              "      <td></td>\n",
              "      <td></td>\n",
              "      <td></td>\n",
              "      <td></td>\n",
              "    </tr>\n",
              "    <tr>\n",
              "      <th>...</th>\n",
              "      <td>...</td>\n",
              "      <td>...</td>\n",
              "      <td>...</td>\n",
              "      <td>...</td>\n",
              "      <td>...</td>\n",
              "      <td>...</td>\n",
              "      <td>...</td>\n",
              "      <td>...</td>\n",
              "      <td>...</td>\n",
              "      <td>...</td>\n",
              "      <td>...</td>\n",
              "      <td>...</td>\n",
              "      <td>...</td>\n",
              "      <td>...</td>\n",
              "      <td>...</td>\n",
              "      <td>...</td>\n",
              "      <td>...</td>\n",
              "      <td>...</td>\n",
              "      <td>...</td>\n",
              "      <td>...</td>\n",
              "      <td>...</td>\n",
              "      <td>...</td>\n",
              "      <td>...</td>\n",
              "      <td>...</td>\n",
              "      <td>...</td>\n",
              "      <td>...</td>\n",
              "      <td>...</td>\n",
              "      <td>...</td>\n",
              "      <td>...</td>\n",
              "      <td>...</td>\n",
              "      <td>...</td>\n",
              "      <td>...</td>\n",
              "      <td>...</td>\n",
              "      <td>...</td>\n",
              "      <td>...</td>\n",
              "      <td>...</td>\n",
              "      <td>...</td>\n",
              "      <td>...</td>\n",
              "    </tr>\n",
              "    <tr>\n",
              "      <th>95</th>\n",
              "      <td>1334999745337696257</td>\n",
              "      <td>1334938779812028421</td>\n",
              "      <td>1.607124e+12</td>\n",
              "      <td>2020-12-04 23:15:17</td>\n",
              "      <td>+0000</td>\n",
              "      <td></td>\n",
              "      <td>@pazpeaceful MANO O JOVI ESTA ULTRAPASSANDO TD...</td>\n",
              "      <td>pt</td>\n",
              "      <td>[]</td>\n",
              "      <td>[]</td>\n",
              "      <td>1171578657539788801</td>\n",
              "      <td>1171578657539788801</td>\n",
              "      <td>DlduJaca</td>\n",
              "      <td>Cria de BelfordRoxo</td>\n",
              "      <td>5</td>\n",
              "      <td>23</td>\n",
              "      <td>https://twitter.com/DlduJaca/status/1334999745...</td>\n",
              "      <td>[]</td>\n",
              "      <td>[]</td>\n",
              "      <td>0</td>\n",
              "      <td></td>\n",
              "      <td>False</td>\n",
              "      <td>0</td>\n",
              "      <td>0</td>\n",
              "      <td>0</td>\n",
              "      <td></td>\n",
              "      <td>Belford Roxo</td>\n",
              "      <td></td>\n",
              "      <td></td>\n",
              "      <td></td>\n",
              "      <td></td>\n",
              "      <td></td>\n",
              "      <td></td>\n",
              "      <td>[{'screen_name': 'pazpeaceful', 'name': 'PaZ',...</td>\n",
              "      <td></td>\n",
              "      <td></td>\n",
              "      <td></td>\n",
              "      <td></td>\n",
              "    </tr>\n",
              "    <tr>\n",
              "      <th>96</th>\n",
              "      <td>1334998301930893313</td>\n",
              "      <td>1334993029426507776</td>\n",
              "      <td>1.607123e+12</td>\n",
              "      <td>2020-12-04 23:09:32</td>\n",
              "      <td>+0000</td>\n",
              "      <td></td>\n",
              "      <td>@tecogguk pensando se ja fui aí ou passei por ...</td>\n",
              "      <td>pt</td>\n",
              "      <td>[]</td>\n",
              "      <td>[]</td>\n",
              "      <td>1311448605501394944</td>\n",
              "      <td>1311448605501394944</td>\n",
              "      <td>viespjk</td>\n",
              "      <td>‎‏ؘ</td>\n",
              "      <td>5</td>\n",
              "      <td>23</td>\n",
              "      <td>https://twitter.com/viespjk/status/13349983019...</td>\n",
              "      <td>[]</td>\n",
              "      <td>[]</td>\n",
              "      <td>0</td>\n",
              "      <td></td>\n",
              "      <td>False</td>\n",
              "      <td>0</td>\n",
              "      <td>1</td>\n",
              "      <td>0</td>\n",
              "      <td></td>\n",
              "      <td>Belford Roxo</td>\n",
              "      <td></td>\n",
              "      <td></td>\n",
              "      <td></td>\n",
              "      <td></td>\n",
              "      <td></td>\n",
              "      <td></td>\n",
              "      <td>[{'screen_name': 'tecogguk', 'name': 'billy ≮ ...</td>\n",
              "      <td></td>\n",
              "      <td></td>\n",
              "      <td></td>\n",
              "      <td></td>\n",
              "    </tr>\n",
              "    <tr>\n",
              "      <th>97</th>\n",
              "      <td>1334996162424827904</td>\n",
              "      <td>1334996162424827904</td>\n",
              "      <td>1.607123e+12</td>\n",
              "      <td>2020-12-04 23:01:02</td>\n",
              "      <td>+0000</td>\n",
              "      <td></td>\n",
              "      <td>Vem que tem pra tu e pra sua coleguinha 😝🥋 em ...</td>\n",
              "      <td>pt</td>\n",
              "      <td>[]</td>\n",
              "      <td>[]</td>\n",
              "      <td>1082472640596578304</td>\n",
              "      <td>1082472640596578304</td>\n",
              "      <td>KaiqueA67051027</td>\n",
              "      <td>Kaique Alves</td>\n",
              "      <td>5</td>\n",
              "      <td>23</td>\n",
              "      <td>https://twitter.com/KaiqueA67051027/status/133...</td>\n",
              "      <td>[https://www.instagram.com/p/CIZL1DrDrB8/?igsh...</td>\n",
              "      <td>[]</td>\n",
              "      <td>0</td>\n",
              "      <td></td>\n",
              "      <td>False</td>\n",
              "      <td>0</td>\n",
              "      <td>0</td>\n",
              "      <td>0</td>\n",
              "      <td></td>\n",
              "      <td>Belford Roxo</td>\n",
              "      <td></td>\n",
              "      <td></td>\n",
              "      <td></td>\n",
              "      <td></td>\n",
              "      <td></td>\n",
              "      <td></td>\n",
              "      <td>[]</td>\n",
              "      <td></td>\n",
              "      <td></td>\n",
              "      <td></td>\n",
              "      <td></td>\n",
              "    </tr>\n",
              "    <tr>\n",
              "      <th>98</th>\n",
              "      <td>1334993245919703041</td>\n",
              "      <td>1334993245919703041</td>\n",
              "      <td>1.607122e+12</td>\n",
              "      <td>2020-12-04 22:49:27</td>\n",
              "      <td>+0000</td>\n",
              "      <td></td>\n",
              "      <td>#RESONANCE CONTINUAÇÃO #SEXTOU #STFOrganizacao...</td>\n",
              "      <td>pt</td>\n",
              "      <td>[resonance, sextou, stforganizacaocriminosa, v...</td>\n",
              "      <td>[]</td>\n",
              "      <td>1290125269546803200</td>\n",
              "      <td>1290125269546803200</td>\n",
              "      <td>spectrumweasley</td>\n",
              "      <td>nique! ϟ</td>\n",
              "      <td>5</td>\n",
              "      <td>22</td>\n",
              "      <td>https://twitter.com/spectrumweasley/status/133...</td>\n",
              "      <td>[]</td>\n",
              "      <td>[]</td>\n",
              "      <td>1</td>\n",
              "      <td>https://pbs.twimg.com/ext_tw_video_thumb/13348...</td>\n",
              "      <td>False</td>\n",
              "      <td>0</td>\n",
              "      <td>0</td>\n",
              "      <td>0</td>\n",
              "      <td></td>\n",
              "      <td>Belford Roxo</td>\n",
              "      <td></td>\n",
              "      <td></td>\n",
              "      <td></td>\n",
              "      <td></td>\n",
              "      <td></td>\n",
              "      <td></td>\n",
              "      <td>[]</td>\n",
              "      <td></td>\n",
              "      <td></td>\n",
              "      <td></td>\n",
              "      <td></td>\n",
              "    </tr>\n",
              "    <tr>\n",
              "      <th>99</th>\n",
              "      <td>1334992899331731457</td>\n",
              "      <td>1334992091907289090</td>\n",
              "      <td>1.607122e+12</td>\n",
              "      <td>2020-12-04 22:48:04</td>\n",
              "      <td>+0000</td>\n",
              "      <td></td>\n",
              "      <td>@Thaian_ Esse metrô está a cara do Belford rox...</td>\n",
              "      <td>pt</td>\n",
              "      <td>[]</td>\n",
              "      <td>[]</td>\n",
              "      <td>998708093939830785</td>\n",
              "      <td>998708093939830785</td>\n",
              "      <td>Reinald92262470</td>\n",
              "      <td>Rei Mg</td>\n",
              "      <td>5</td>\n",
              "      <td>22</td>\n",
              "      <td>https://twitter.com/Reinald92262470/status/133...</td>\n",
              "      <td>[]</td>\n",
              "      <td>[]</td>\n",
              "      <td>0</td>\n",
              "      <td></td>\n",
              "      <td>False</td>\n",
              "      <td>0</td>\n",
              "      <td>0</td>\n",
              "      <td>0</td>\n",
              "      <td></td>\n",
              "      <td>Belford Roxo</td>\n",
              "      <td></td>\n",
              "      <td></td>\n",
              "      <td></td>\n",
              "      <td></td>\n",
              "      <td></td>\n",
              "      <td></td>\n",
              "      <td>[{'screen_name': 'Thaian_', 'name': 'Feijão Fr...</td>\n",
              "      <td></td>\n",
              "      <td></td>\n",
              "      <td></td>\n",
              "      <td></td>\n",
              "    </tr>\n",
              "  </tbody>\n",
              "</table>\n",
              "<p>100 rows × 38 columns</p>\n",
              "</div>"
            ],
            "text/plain": [
              "                     id      conversation_id  ...  trans_src trans_dest\n",
              "0   1335202036669960193  1335048948801818630  ...                      \n",
              "1   1335200592424275968  1335200589119180801  ...                      \n",
              "2   1335200179524407298  1335200179524407298  ...                      \n",
              "3   1335191485671763968  1335191060570574849  ...                      \n",
              "4   1335184746859671552  1335184746859671552  ...                      \n",
              "..                  ...                  ...  ...        ...        ...\n",
              "95  1334999745337696257  1334938779812028421  ...                      \n",
              "96  1334998301930893313  1334993029426507776  ...                      \n",
              "97  1334996162424827904  1334996162424827904  ...                      \n",
              "98  1334993245919703041  1334993245919703041  ...                      \n",
              "99  1334992899331731457  1334992091907289090  ...                      \n",
              "\n",
              "[100 rows x 38 columns]"
            ]
          },
          "metadata": {
            "tags": []
          },
          "execution_count": 20
        }
      ]
    },
    {
      "cell_type": "markdown",
      "metadata": {
        "id": "7PXfB-l66_XE"
      },
      "source": [
        "1 - Exercício\n",
        " - Buscar tweets relacionados ao COVID-19 e montar um dataframe com todas colunas. No mínimo 10000 tweets e salvar em .csv."
      ]
    },
    {
      "cell_type": "markdown",
      "metadata": {
        "id": "l0XoGUrkZBzW"
      },
      "source": [
        "Depois de extrair o tweet, usaremos NLP para analisar os dados do tweet.\n",
        "Aqui, vamos analisar a contagem de frequência de palavras usando o kit de ferramentas de linguagem natural (nltk).\n",
        "O pré-processamento do tweet é uma etapa importante para tornar o tweet pronto para análise. O pré-processamento envolve a remoção de pontuação, caracteres especiais, números e termos que não têm muita importância durante a análise. O pré-processamento envolve:\n",
        "1. Remover pontuação\n",
        "2. Tokenização\n",
        "3. Removendo palavras irrelevantes\n",
        "4. Stemming / Lemmatização"
      ]
    },
    {
      "cell_type": "code",
      "metadata": {
        "id": "nxd6igCjRQix"
      },
      "source": [
        "import nltk\n",
        "from nltk import sent_tokenize, word_tokenize\n",
        "from nltk.stem.snowball import SnowballStemmer\n",
        "from nltk.stem.wordnet import WordNetLemmatizer\n",
        "from nltk.corpus import stopwords\n",
        "import re\n",
        "import string"
      ],
      "execution_count": null,
      "outputs": []
    },
    {
      "cell_type": "markdown",
      "metadata": {
        "id": "foxpBHt7ZJsa"
      },
      "source": [
        "Os dados do tweet que removemos consistem em pontuações, hashtags, caracteres especiais, emojis etc. Primeiro, removeremos as hashtags e pontuação, etc. do tweet. Aqui, substituiremos tudo, exceto caracteres e números, por espaços."
      ]
    },
    {
      "cell_type": "code",
      "metadata": {
        "id": "dwX3DZRWSBCJ"
      },
      "source": [
        "data[\"tweet\"]= data[\"tweet\"].str.replace(\"[^a-zA-Z0-9]\", \" \")"
      ],
      "execution_count": null,
      "outputs": []
    },
    {
      "cell_type": "markdown",
      "metadata": {
        "id": "Mm63S1DnZTp0"
      },
      "source": [
        "Também removeremos os tweets que contenha menos de 3 caracteres"
      ]
    },
    {
      "cell_type": "code",
      "metadata": {
        "id": "CqPHJQQuZS6Z"
      },
      "source": [
        "data['tweet']= data['tweet'].apply(lambda x: ' '.join ([w for w in x.split() if len(w)>3]))"
      ],
      "execution_count": null,
      "outputs": []
    },
    {
      "cell_type": "code",
      "metadata": {
        "id": "Vq2HXJ8pSG9H"
      },
      "source": [
        "data = data[data.language == 'pt']"
      ],
      "execution_count": null,
      "outputs": []
    },
    {
      "cell_type": "code",
      "metadata": {
        "colab": {
          "base_uri": "https://localhost:8080/",
          "height": 261
        },
        "id": "27M5ERCFLvrV",
        "outputId": "51c48e7c-67ee-4dce-fbd0-f1430a2ff1c4"
      },
      "source": [
        "data"
      ],
      "execution_count": null,
      "outputs": [
        {
          "output_type": "execute_result",
          "data": {
            "text/html": [
              "<div>\n",
              "<style scoped>\n",
              "    .dataframe tbody tr th:only-of-type {\n",
              "        vertical-align: middle;\n",
              "    }\n",
              "\n",
              "    .dataframe tbody tr th {\n",
              "        vertical-align: top;\n",
              "    }\n",
              "\n",
              "    .dataframe thead th {\n",
              "        text-align: right;\n",
              "    }\n",
              "</style>\n",
              "<table border=\"1\" class=\"dataframe\">\n",
              "  <thead>\n",
              "    <tr style=\"text-align: right;\">\n",
              "      <th></th>\n",
              "      <th>id</th>\n",
              "      <th>conversation_id</th>\n",
              "      <th>created_at</th>\n",
              "      <th>date</th>\n",
              "      <th>timezone</th>\n",
              "      <th>place</th>\n",
              "      <th>tweet</th>\n",
              "      <th>language</th>\n",
              "      <th>hashtags</th>\n",
              "      <th>cashtags</th>\n",
              "      <th>user_id</th>\n",
              "      <th>user_id_str</th>\n",
              "      <th>username</th>\n",
              "      <th>name</th>\n",
              "      <th>day</th>\n",
              "      <th>hour</th>\n",
              "      <th>link</th>\n",
              "      <th>urls</th>\n",
              "      <th>photos</th>\n",
              "      <th>video</th>\n",
              "      <th>thumbnail</th>\n",
              "      <th>retweet</th>\n",
              "      <th>nlikes</th>\n",
              "      <th>nreplies</th>\n",
              "      <th>nretweets</th>\n",
              "      <th>quote_url</th>\n",
              "      <th>search</th>\n",
              "      <th>near</th>\n",
              "      <th>geo</th>\n",
              "      <th>source</th>\n",
              "      <th>user_rt_id</th>\n",
              "      <th>user_rt</th>\n",
              "      <th>retweet_id</th>\n",
              "      <th>reply_to</th>\n",
              "      <th>retweet_date</th>\n",
              "      <th>translate</th>\n",
              "      <th>trans_src</th>\n",
              "      <th>trans_dest</th>\n",
              "    </tr>\n",
              "  </thead>\n",
              "  <tbody>\n",
              "    <tr>\n",
              "      <th>1</th>\n",
              "      <td>1335220213122535428</td>\n",
              "      <td>1335220213122535428</td>\n",
              "      <td>1.607176e+12</td>\n",
              "      <td>2020-12-05 13:51:20</td>\n",
              "      <td>+0000</td>\n",
              "      <td></td>\n",
              "      <td>ssia come vacina massa contra Covid19 aqui Edu...</td>\n",
              "      <td>pt</td>\n",
              "      <td>[]</td>\n",
              "      <td>[]</td>\n",
              "      <td>1196918850996060161</td>\n",
              "      <td>1196918850996060161</td>\n",
              "      <td>SanHelenDa</td>\n",
              "      <td>Sandruska 💯%Lula13</td>\n",
              "      <td>6</td>\n",
              "      <td>13</td>\n",
              "      <td>https://twitter.com/SanHelenDa/status/13352202...</td>\n",
              "      <td>[]</td>\n",
              "      <td>[]</td>\n",
              "      <td>0</td>\n",
              "      <td></td>\n",
              "      <td>False</td>\n",
              "      <td>0</td>\n",
              "      <td>0</td>\n",
              "      <td>0</td>\n",
              "      <td>https://twitter.com/Reuters/status/13351934733...</td>\n",
              "      <td>COVID19</td>\n",
              "      <td></td>\n",
              "      <td></td>\n",
              "      <td></td>\n",
              "      <td></td>\n",
              "      <td></td>\n",
              "      <td></td>\n",
              "      <td>[]</td>\n",
              "      <td></td>\n",
              "      <td></td>\n",
              "      <td></td>\n",
              "      <td></td>\n",
              "    </tr>\n",
              "    <tr>\n",
              "      <th>21</th>\n",
              "      <td>1335220151969574913</td>\n",
              "      <td>1335220151969574913</td>\n",
              "      <td>1.607176e+12</td>\n",
              "      <td>2020-12-05 13:51:06</td>\n",
              "      <td>+0000</td>\n",
              "      <td></td>\n",
              "      <td>Vencemos isolamento covid19 Deus</td>\n",
              "      <td>pt</td>\n",
              "      <td>[]</td>\n",
              "      <td>[]</td>\n",
              "      <td>1050102368598192128</td>\n",
              "      <td>1050102368598192128</td>\n",
              "      <td>AnynhaCarraro</td>\n",
              "      <td>Anynha Carraro</td>\n",
              "      <td>6</td>\n",
              "      <td>13</td>\n",
              "      <td>https://twitter.com/AnynhaCarraro/status/13352...</td>\n",
              "      <td>[]</td>\n",
              "      <td>[]</td>\n",
              "      <td>0</td>\n",
              "      <td></td>\n",
              "      <td>False</td>\n",
              "      <td>0</td>\n",
              "      <td>0</td>\n",
              "      <td>0</td>\n",
              "      <td></td>\n",
              "      <td>COVID19</td>\n",
              "      <td></td>\n",
              "      <td></td>\n",
              "      <td></td>\n",
              "      <td></td>\n",
              "      <td></td>\n",
              "      <td></td>\n",
              "      <td>[]</td>\n",
              "      <td></td>\n",
              "      <td></td>\n",
              "      <td></td>\n",
              "      <td></td>\n",
              "    </tr>\n",
              "  </tbody>\n",
              "</table>\n",
              "</div>"
            ],
            "text/plain": [
              "                     id      conversation_id  ...  trans_src trans_dest\n",
              "1   1335220213122535428  1335220213122535428  ...                      \n",
              "21  1335220151969574913  1335220151969574913  ...                      \n",
              "\n",
              "[2 rows x 38 columns]"
            ]
          },
          "metadata": {
            "tags": []
          },
          "execution_count": 46
        }
      ]
    },
    {
      "cell_type": "markdown",
      "metadata": {
        "id": "45u-e_PqZeMz"
      },
      "source": [
        "A tokenização envolve a divisão de um texto em pedaços, chamados tokens. Aqui estou criando uma função para tokenização. Além disso, estou convertendo todo o texto em letras minúsculas."
      ]
    },
    {
      "cell_type": "code",
      "metadata": {
        "id": "FqYqQ1CoSIrk",
        "colab": {
          "base_uri": "https://localhost:8080/"
        },
        "outputId": "f0742dee-968e-4d77-a0dd-e4ada90d4e01"
      },
      "source": [
        "def tokenize(text):\n",
        "  tokens = re.split('\\W+', text)\n",
        "  return tokens\n",
        "data['tweet']= data['tweet'].apply (lambda x: tokenize(x.lower()))"
      ],
      "execution_count": null,
      "outputs": [
        {
          "output_type": "stream",
          "text": [
            "/usr/local/lib/python3.6/dist-packages/ipykernel_launcher.py:4: SettingWithCopyWarning: \n",
            "A value is trying to be set on a copy of a slice from a DataFrame.\n",
            "Try using .loc[row_indexer,col_indexer] = value instead\n",
            "\n",
            "See the caveats in the documentation: https://pandas.pydata.org/pandas-docs/stable/user_guide/indexing.html#returning-a-view-versus-a-copy\n",
            "  after removing the cwd from sys.path.\n"
          ],
          "name": "stderr"
        }
      ]
    },
    {
      "cell_type": "code",
      "metadata": {
        "colab": {
          "base_uri": "https://localhost:8080/"
        },
        "id": "_tDORDV-L1lP",
        "outputId": "c6f9984f-0bdd-4c69-cae2-9265eb838ee2"
      },
      "source": [
        "data['tweet']"
      ],
      "execution_count": null,
      "outputs": [
        {
          "output_type": "execute_result",
          "data": {
            "text/plain": [
              "1     [ssia, come, vacina, massa, contra, covid19, a...\n",
              "21                [vencemos, isolamento, covid19, deus]\n",
              "Name: tweet, dtype: object"
            ]
          },
          "metadata": {
            "tags": []
          },
          "execution_count": 48
        }
      ]
    },
    {
      "cell_type": "code",
      "metadata": {
        "colab": {
          "base_uri": "https://localhost:8080/"
        },
        "id": "Cv00vvs_ceJY",
        "outputId": "9715ce95-29df-482b-ff28-ce9620df0b24"
      },
      "source": [
        "# É necessário realizar o download das stopwords\n",
        "\n",
        "nltk.download('stopwords')"
      ],
      "execution_count": null,
      "outputs": [
        {
          "output_type": "stream",
          "text": [
            "[nltk_data] Downloading package stopwords to /root/nltk_data...\n",
            "[nltk_data]   Unzipping corpora/stopwords.zip.\n"
          ],
          "name": "stdout"
        },
        {
          "output_type": "execute_result",
          "data": {
            "text/plain": [
              "True"
            ]
          },
          "metadata": {
            "tags": []
          },
          "execution_count": 49
        }
      ]
    },
    {
      "cell_type": "markdown",
      "metadata": {
        "id": "IF5Kez0HZw3d"
      },
      "source": [
        "Palavras irrelevantes são palavras comumente usadas (como a, ao, o, em, os). Durante a análise, essas palavras não têm muito valor para a análise. Como resultado, removemos essas palavras."
      ]
    },
    {
      "cell_type": "code",
      "metadata": {
        "colab": {
          "base_uri": "https://localhost:8080/"
        },
        "id": "R8KID0UeZ2L2",
        "outputId": "ae3143a8-68e5-42b3-f2c7-f9d2f569b851"
      },
      "source": [
        "def remove_stopword(text):\n",
        "  text_nostopword= [char for char in text if char not in stopwords.words('portuguese')]\n",
        "  return text_nostopword\n",
        "data['tweet']= data['tweet'].apply(lambda x: remove_stopword(x))"
      ],
      "execution_count": null,
      "outputs": [
        {
          "output_type": "stream",
          "text": [
            "/usr/local/lib/python3.6/dist-packages/ipykernel_launcher.py:4: SettingWithCopyWarning: \n",
            "A value is trying to be set on a copy of a slice from a DataFrame.\n",
            "Try using .loc[row_indexer,col_indexer] = value instead\n",
            "\n",
            "See the caveats in the documentation: https://pandas.pydata.org/pandas-docs/stable/user_guide/indexing.html#returning-a-view-versus-a-copy\n",
            "  after removing the cwd from sys.path.\n"
          ],
          "name": "stderr"
        }
      ]
    },
    {
      "cell_type": "code",
      "metadata": {
        "colab": {
          "base_uri": "https://localhost:8080/"
        },
        "id": "lRxdS-tsMSDr",
        "outputId": "22db10f6-e4e7-4db7-9bdb-e9db3c07ea81"
      },
      "source": [
        "data['tweet']"
      ],
      "execution_count": null,
      "outputs": [
        {
          "output_type": "execute_result",
          "data": {
            "text/plain": [
              "1     [ssia, come, vacina, massa, contra, covid19, a...\n",
              "21                [vencemos, isolamento, covid19, deus]\n",
              "Name: tweet, dtype: object"
            ]
          },
          "metadata": {
            "tags": []
          },
          "execution_count": 51
        }
      ]
    },
    {
      "cell_type": "markdown",
      "metadata": {
        "id": "i9r76tVGdInV"
      },
      "source": [
        "Instância do Stemmer\n"
      ]
    },
    {
      "cell_type": "code",
      "metadata": {
        "id": "DZCS-58ydLrf"
      },
      "source": [
        "# Porter Stemmer\n",
        "ps= nltk.PorterStemmer()"
      ],
      "execution_count": null,
      "outputs": []
    },
    {
      "cell_type": "markdown",
      "metadata": {
        "id": "aWwyqBh5aC7J"
      },
      "source": [
        "Ambas as técnicas (Stemmer / Lemmatize) identificam um representante canônico para um conjunto de formas de palavras relacionadas."
      ]
    },
    {
      "cell_type": "code",
      "metadata": {
        "colab": {
          "base_uri": "https://localhost:8080/"
        },
        "id": "R9sfo8OwaDRG",
        "outputId": "8ef9ad6a-17d6-4fbb-8a1e-eb497bbcb3c6"
      },
      "source": [
        "def stem(tweet_no_stopword):\n",
        "  text = [ps.stem(word) for word in tweet_no_stopword]\n",
        "  return text\n",
        "data['tweet']= data['tweet'].apply(lambda x: stem(x))"
      ],
      "execution_count": null,
      "outputs": [
        {
          "output_type": "stream",
          "text": [
            "/usr/local/lib/python3.6/dist-packages/ipykernel_launcher.py:4: SettingWithCopyWarning: \n",
            "A value is trying to be set on a copy of a slice from a DataFrame.\n",
            "Try using .loc[row_indexer,col_indexer] = value instead\n",
            "\n",
            "See the caveats in the documentation: https://pandas.pydata.org/pandas-docs/stable/user_guide/indexing.html#returning-a-view-versus-a-copy\n",
            "  after removing the cwd from sys.path.\n"
          ],
          "name": "stderr"
        }
      ]
    },
    {
      "cell_type": "code",
      "metadata": {
        "colab": {
          "base_uri": "https://localhost:8080/"
        },
        "id": "kylC7c9hMqhI",
        "outputId": "a3e82af9-8942-487d-daf9-e50edbdcde20"
      },
      "source": [
        "data['tweet']"
      ],
      "execution_count": null,
      "outputs": [
        {
          "output_type": "execute_result",
          "data": {
            "text/plain": [
              "1     [ssia, come, vacina, massa, contra, covid19, a...\n",
              "21                  [vencemo, isolamento, covid19, deu]\n",
              "Name: tweet, dtype: object"
            ]
          },
          "metadata": {
            "tags": []
          },
          "execution_count": 54
        }
      ]
    },
    {
      "cell_type": "markdown",
      "metadata": {
        "id": "saEy6a6waJlC"
      },
      "source": [
        "Para contar a frequência das palavras, primeiro preciso colocar o tweet limpo em uma lista. Primeiro, preciso colocar os dados em uma lista e depois em uma lista plana"
      ]
    },
    {
      "cell_type": "code",
      "metadata": {
        "id": "Osw1kuvQaKLj"
      },
      "source": [
        "data_list = data.loc[:,'tweet'].to_list()\n",
        "\n",
        "flat_data_list = [item for sublist in data_list for item in sublist]\n"
      ],
      "execution_count": null,
      "outputs": []
    },
    {
      "cell_type": "code",
      "metadata": {
        "colab": {
          "base_uri": "https://localhost:8080/"
        },
        "id": "FvF86gJGM4B2",
        "outputId": "bd0132ad-85c0-4e2f-d485-aea64714e351"
      },
      "source": [
        "flat_data_list"
      ],
      "execution_count": null,
      "outputs": [
        {
          "output_type": "execute_result",
          "data": {
            "text/plain": [
              "['ssia',\n",
              " 'come',\n",
              " 'vacina',\n",
              " 'massa',\n",
              " 'contra',\n",
              " 'covid19',\n",
              " 'aqui',\n",
              " 'eduardoleit',\n",
              " 'psdb',\n",
              " 'trazer',\n",
              " 'vacina',\n",
              " 'ond',\n",
              " 'vencemo',\n",
              " 'isolamento',\n",
              " 'covid19',\n",
              " 'deu']"
            ]
          },
          "metadata": {
            "tags": []
          },
          "execution_count": 56
        }
      ]
    },
    {
      "cell_type": "markdown",
      "metadata": {
        "id": "8P4tfayndXYc"
      },
      "source": [
        "Devemos agora importar a biblioteca pandas"
      ]
    },
    {
      "cell_type": "code",
      "metadata": {
        "id": "pNNryRy1da88"
      },
      "source": [
        "import pandas as pd"
      ],
      "execution_count": null,
      "outputs": []
    },
    {
      "cell_type": "code",
      "metadata": {
        "id": "por1FhpEaO-c"
      },
      "source": [
        "data_count= pd.DataFrame(flat_data_list)\n",
        "data_count= data_count[0].value_counts()"
      ],
      "execution_count": null,
      "outputs": []
    },
    {
      "cell_type": "code",
      "metadata": {
        "colab": {
          "base_uri": "https://localhost:8080/"
        },
        "id": "3sWoThDXM_JB",
        "outputId": "a478786c-c0d6-4043-ecac-c059270d6b6b"
      },
      "source": [
        "data_count"
      ],
      "execution_count": null,
      "outputs": [
        {
          "output_type": "execute_result",
          "data": {
            "text/plain": [
              "vacina         2\n",
              "covid19        2\n",
              "contra         1\n",
              "eduardoleit    1\n",
              "isolamento     1\n",
              "massa          1\n",
              "ssia           1\n",
              "trazer         1\n",
              "vencemo        1\n",
              "aqui           1\n",
              "psdb           1\n",
              "come           1\n",
              "ond            1\n",
              "deu            1\n",
              "Name: 0, dtype: int64"
            ]
          },
          "metadata": {
            "tags": []
          },
          "execution_count": 60
        }
      ]
    },
    {
      "cell_type": "markdown",
      "metadata": {
        "id": "x_bycBiya05k"
      },
      "source": [
        "Vamos usar a distribuição de frequência do nltk. Uma distribuição de frequência registra o número de vezes que cada palavra do texto ocorreu. Primeira distribuição de freqüência de importação de nltk por"
      ]
    },
    {
      "cell_type": "code",
      "metadata": {
        "id": "iktsJe-0a3ye"
      },
      "source": [
        "from nltk.probability import FreqDist"
      ],
      "execution_count": null,
      "outputs": []
    },
    {
      "cell_type": "code",
      "metadata": {
        "id": "qqZcGIEja5lW"
      },
      "source": [
        "freq_count = FreqDist()\n",
        "for words in data_count:\n",
        "  freq_count[words] +=1\n",
        "  freq_count\n"
      ],
      "execution_count": null,
      "outputs": []
    },
    {
      "cell_type": "markdown",
      "metadata": {
        "id": "i4blq41na-5h"
      },
      "source": [
        "**Visualize o resultado**\n",
        "Para visualizar o resultado, primeiro precisamos importar a biblioteca necessária. Aqui estou eu usando a biblioteca Seaborn"
      ]
    },
    {
      "cell_type": "code",
      "metadata": {
        "id": "DSeqDyMDbDWY"
      },
      "source": [
        "import numpy as np\n",
        "import matplotlib.pyplot as plt\n",
        "import seaborn as sns"
      ],
      "execution_count": null,
      "outputs": []
    },
    {
      "cell_type": "code",
      "metadata": {
        "colab": {
          "base_uri": "https://localhost:8080/",
          "height": 408
        },
        "id": "8hf4Nt3tbHG7",
        "outputId": "5699362d-9114-40e5-b9ff-6a960bd5a5eb"
      },
      "source": [
        "data_count = data_count[:20,]\n",
        "plt.figure(figsize=(10,5))\n",
        "sns.barplot(data_count.values, data_count.index, alpha=0.8)\n",
        "plt.title('Palavras principais em geral')\n",
        "plt.ylabel('Palavras no Tweet', fontsize=12)\n",
        "plt.xlabel('Quantidade de Palavras', fontsize=12)\n",
        "plt.show()"
      ],
      "execution_count": null,
      "outputs": [
        {
          "output_type": "stream",
          "text": [
            "/usr/local/lib/python3.6/dist-packages/seaborn/_decorators.py:43: FutureWarning: Pass the following variables as keyword args: x, y. From version 0.12, the only valid positional argument will be `data`, and passing other arguments without an explicit keyword will result in an error or misinterpretation.\n",
            "  FutureWarning\n"
          ],
          "name": "stderr"
        },
        {
          "output_type": "display_data",
          "data": {
            "image/png": "[encoded data removed]",
            "text/plain": [
              "<Figure size 720x360 with 1 Axes>"
            ]
          },
          "metadata": {
            "tags": [],
            "needs_background": "light"
          }
        }
      ]
    },
    {
      "cell_type": "code",
      "metadata": {
        "id": "ukxXYrNFdftO"
      },
      "source": [],
      "execution_count": null,
      "outputs": []
    }
  ]
}
