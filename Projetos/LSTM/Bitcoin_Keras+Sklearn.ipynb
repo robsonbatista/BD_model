{
  "nbformat": 4,
  "nbformat_minor": 0,
  "metadata": {
    "colab": {
      "provenance": []
    },
    "kernelspec": {
      "name": "python3",
      "display_name": "Python 3"
    },
    "language_info": {
      "name": "python"
    }
  },
  "cells": [
    {
      "cell_type": "code",
      "metadata": {
        "id": "hLk9jXmORvAD"
      },
      "source": [
        "%tensorflow_version 2.x\n",
        "import json\n",
        "import requests\n",
        "from keras.models import Sequential\n",
        "from keras.layers import Activation, Dense, Dropout, LSTM\n",
        "import matplotlib.pyplot as plt\n",
        "import numpy as np\n",
        "import pandas as pd\n",
        "import seaborn as sns\n",
        "from sklearn.metrics import mean_absolute_error\n",
        "%matplotlib inline"
      ],
      "execution_count": null,
      "outputs": []
    },
    {
      "cell_type": "code",
      "metadata": {
        "id": "_sXBp0GKR-Dt"
      },
      "source": [
        "endpoint = 'https://min-api.cryptocompare.com/data/histoday'\n",
        "res = requests.get(endpoint + '?fsym=ETC&tsym=CAD&limit=500')\n",
        "hist = pd.DataFrame(json.loads(res.content)['Data'])\n",
        "hist = hist.set_index('time')\n",
        "hist.index = pd.to_datetime(hist.index, unit='s')\n",
        "target_col = 'close'"
      ],
      "execution_count": null,
      "outputs": []
    },
    {
      "cell_type": "code",
      "metadata": {
        "colab": {
          "base_uri": "https://localhost:8080/"
        },
        "id": "5c2DBmUySsc7",
        "outputId": "9d1c24f7-ff6f-4655-c2f2-a2281f394be5"
      },
      "source": [
        "hist.info()"
      ],
      "execution_count": null,
      "outputs": [
        {
          "output_type": "stream",
          "name": "stdout",
          "text": [
            "<class 'pandas.core.frame.DataFrame'>\n",
            "DatetimeIndex: 501 entries, 2020-06-06 to 2021-10-19\n",
            "Data columns (total 8 columns):\n",
            " #   Column            Non-Null Count  Dtype  \n",
            "---  ------            --------------  -----  \n",
            " 0   high              501 non-null    float64\n",
            " 1   low               501 non-null    float64\n",
            " 2   open              501 non-null    float64\n",
            " 3   volumefrom        501 non-null    float64\n",
            " 4   volumeto          501 non-null    float64\n",
            " 5   close             501 non-null    float64\n",
            " 6   conversionType    501 non-null    object \n",
            " 7   conversionSymbol  501 non-null    object \n",
            "dtypes: float64(6), object(2)\n",
            "memory usage: 35.2+ KB\n"
          ]
        }
      ]
    },
    {
      "cell_type": "code",
      "metadata": {
        "id": "iAfdHRBVSBFB"
      },
      "source": [
        "hist.drop([\"conversionType\", \"conversionSymbol\"], axis = 'columns', inplace = True)"
      ],
      "execution_count": null,
      "outputs": []
    },
    {
      "cell_type": "code",
      "metadata": {
        "colab": {
          "base_uri": "https://localhost:8080/",
          "height": 235
        },
        "id": "clAYLKi0SHHg",
        "outputId": "c0152199-23d6-4791-bea6-044399228bc4"
      },
      "source": [
        "hist.head(5)"
      ],
      "execution_count": null,
      "outputs": [
        {
          "output_type": "execute_result",
          "data": {
            "text/html": [
              "<div>\n",
              "<style scoped>\n",
              "    .dataframe tbody tr th:only-of-type {\n",
              "        vertical-align: middle;\n",
              "    }\n",
              "\n",
              "    .dataframe tbody tr th {\n",
              "        vertical-align: top;\n",
              "    }\n",
              "\n",
              "    .dataframe thead th {\n",
              "        text-align: right;\n",
              "    }\n",
              "</style>\n",
              "<table border=\"1\" class=\"dataframe\">\n",
              "  <thead>\n",
              "    <tr style=\"text-align: right;\">\n",
              "      <th></th>\n",
              "      <th>high</th>\n",
              "      <th>low</th>\n",
              "      <th>open</th>\n",
              "      <th>volumefrom</th>\n",
              "      <th>volumeto</th>\n",
              "      <th>close</th>\n",
              "    </tr>\n",
              "    <tr>\n",
              "      <th>time</th>\n",
              "      <th></th>\n",
              "      <th></th>\n",
              "      <th></th>\n",
              "      <th></th>\n",
              "      <th></th>\n",
              "      <th></th>\n",
              "    </tr>\n",
              "  </thead>\n",
              "  <tbody>\n",
              "    <tr>\n",
              "      <th>2020-06-06</th>\n",
              "      <td>9.530</td>\n",
              "      <td>9.407</td>\n",
              "      <td>9.420</td>\n",
              "      <td>3565297.62</td>\n",
              "      <td>33692230.08</td>\n",
              "      <td>9.450</td>\n",
              "    </tr>\n",
              "    <tr>\n",
              "      <th>2020-06-07</th>\n",
              "      <td>9.607</td>\n",
              "      <td>9.395</td>\n",
              "      <td>9.450</td>\n",
              "      <td>3840437.51</td>\n",
              "      <td>36145692.44</td>\n",
              "      <td>9.412</td>\n",
              "    </tr>\n",
              "    <tr>\n",
              "      <th>2020-06-08</th>\n",
              "      <td>9.375</td>\n",
              "      <td>9.174</td>\n",
              "      <td>9.412</td>\n",
              "      <td>3657752.71</td>\n",
              "      <td>33796386.65</td>\n",
              "      <td>9.240</td>\n",
              "    </tr>\n",
              "    <tr>\n",
              "      <th>2020-06-09</th>\n",
              "      <td>9.279</td>\n",
              "      <td>9.066</td>\n",
              "      <td>9.240</td>\n",
              "      <td>3523778.52</td>\n",
              "      <td>32118280.98</td>\n",
              "      <td>9.115</td>\n",
              "    </tr>\n",
              "    <tr>\n",
              "      <th>2020-06-10</th>\n",
              "      <td>9.306</td>\n",
              "      <td>9.070</td>\n",
              "      <td>9.115</td>\n",
              "      <td>1794836.97</td>\n",
              "      <td>16415934.13</td>\n",
              "      <td>9.146</td>\n",
              "    </tr>\n",
              "  </tbody>\n",
              "</table>\n",
              "</div>"
            ],
            "text/plain": [
              "             high    low   open  volumefrom     volumeto  close\n",
              "time                                                           \n",
              "2020-06-06  9.530  9.407  9.420  3565297.62  33692230.08  9.450\n",
              "2020-06-07  9.607  9.395  9.450  3840437.51  36145692.44  9.412\n",
              "2020-06-08  9.375  9.174  9.412  3657752.71  33796386.65  9.240\n",
              "2020-06-09  9.279  9.066  9.240  3523778.52  32118280.98  9.115\n",
              "2020-06-10  9.306  9.070  9.115  1794836.97  16415934.13  9.146"
            ]
          },
          "metadata": {},
          "execution_count": 57
        }
      ]
    },
    {
      "cell_type": "code",
      "metadata": {
        "colab": {
          "base_uri": "https://localhost:8080/",
          "height": 450
        },
        "id": "gY_lnK-xTIsB",
        "outputId": "025a7be6-4509-4d4e-cbf7-452ad2582028"
      },
      "source": [
        "hist.head(-5)"
      ],
      "execution_count": null,
      "outputs": [
        {
          "output_type": "execute_result",
          "data": {
            "text/html": [
              "<div>\n",
              "<style scoped>\n",
              "    .dataframe tbody tr th:only-of-type {\n",
              "        vertical-align: middle;\n",
              "    }\n",
              "\n",
              "    .dataframe tbody tr th {\n",
              "        vertical-align: top;\n",
              "    }\n",
              "\n",
              "    .dataframe thead th {\n",
              "        text-align: right;\n",
              "    }\n",
              "</style>\n",
              "<table border=\"1\" class=\"dataframe\">\n",
              "  <thead>\n",
              "    <tr style=\"text-align: right;\">\n",
              "      <th></th>\n",
              "      <th>high</th>\n",
              "      <th>low</th>\n",
              "      <th>open</th>\n",
              "      <th>volumefrom</th>\n",
              "      <th>volumeto</th>\n",
              "      <th>close</th>\n",
              "    </tr>\n",
              "    <tr>\n",
              "      <th>time</th>\n",
              "      <th></th>\n",
              "      <th></th>\n",
              "      <th></th>\n",
              "      <th></th>\n",
              "      <th></th>\n",
              "      <th></th>\n",
              "    </tr>\n",
              "  </thead>\n",
              "  <tbody>\n",
              "    <tr>\n",
              "      <th>2020-06-06</th>\n",
              "      <td>9.530</td>\n",
              "      <td>9.407</td>\n",
              "      <td>9.420</td>\n",
              "      <td>3565297.62</td>\n",
              "      <td>3.369223e+07</td>\n",
              "      <td>9.450</td>\n",
              "    </tr>\n",
              "    <tr>\n",
              "      <th>2020-06-07</th>\n",
              "      <td>9.607</td>\n",
              "      <td>9.395</td>\n",
              "      <td>9.450</td>\n",
              "      <td>3840437.51</td>\n",
              "      <td>3.614569e+07</td>\n",
              "      <td>9.412</td>\n",
              "    </tr>\n",
              "    <tr>\n",
              "      <th>2020-06-08</th>\n",
              "      <td>9.375</td>\n",
              "      <td>9.174</td>\n",
              "      <td>9.412</td>\n",
              "      <td>3657752.71</td>\n",
              "      <td>3.379639e+07</td>\n",
              "      <td>9.240</td>\n",
              "    </tr>\n",
              "    <tr>\n",
              "      <th>2020-06-09</th>\n",
              "      <td>9.279</td>\n",
              "      <td>9.066</td>\n",
              "      <td>9.240</td>\n",
              "      <td>3523778.52</td>\n",
              "      <td>3.211828e+07</td>\n",
              "      <td>9.115</td>\n",
              "    </tr>\n",
              "    <tr>\n",
              "      <th>2020-06-10</th>\n",
              "      <td>9.306</td>\n",
              "      <td>9.070</td>\n",
              "      <td>9.115</td>\n",
              "      <td>1794836.97</td>\n",
              "      <td>1.641593e+07</td>\n",
              "      <td>9.146</td>\n",
              "    </tr>\n",
              "    <tr>\n",
              "      <th>...</th>\n",
              "      <td>...</td>\n",
              "      <td>...</td>\n",
              "      <td>...</td>\n",
              "      <td>...</td>\n",
              "      <td>...</td>\n",
              "      <td>...</td>\n",
              "    </tr>\n",
              "    <tr>\n",
              "      <th>2021-10-10</th>\n",
              "      <td>69.030</td>\n",
              "      <td>65.820</td>\n",
              "      <td>69.550</td>\n",
              "      <td>247615.43</td>\n",
              "      <td>1.630500e+07</td>\n",
              "      <td>65.850</td>\n",
              "    </tr>\n",
              "    <tr>\n",
              "      <th>2021-10-11</th>\n",
              "      <td>70.160</td>\n",
              "      <td>66.700</td>\n",
              "      <td>65.850</td>\n",
              "      <td>271222.62</td>\n",
              "      <td>1.830402e+07</td>\n",
              "      <td>67.490</td>\n",
              "    </tr>\n",
              "    <tr>\n",
              "      <th>2021-10-12</th>\n",
              "      <td>66.390</td>\n",
              "      <td>64.830</td>\n",
              "      <td>67.080</td>\n",
              "      <td>3136438.21</td>\n",
              "      <td>2.071351e+08</td>\n",
              "      <td>66.040</td>\n",
              "    </tr>\n",
              "    <tr>\n",
              "      <th>2021-10-13</th>\n",
              "      <td>67.700</td>\n",
              "      <td>65.080</td>\n",
              "      <td>66.000</td>\n",
              "      <td>221338.85</td>\n",
              "      <td>1.464628e+07</td>\n",
              "      <td>66.170</td>\n",
              "    </tr>\n",
              "    <tr>\n",
              "      <th>2021-10-14</th>\n",
              "      <td>68.050</td>\n",
              "      <td>65.050</td>\n",
              "      <td>66.170</td>\n",
              "      <td>241213.28</td>\n",
              "      <td>1.630421e+07</td>\n",
              "      <td>67.590</td>\n",
              "    </tr>\n",
              "  </tbody>\n",
              "</table>\n",
              "<p>496 rows × 6 columns</p>\n",
              "</div>"
            ],
            "text/plain": [
              "              high     low    open  volumefrom      volumeto   close\n",
              "time                                                                \n",
              "2020-06-06   9.530   9.407   9.420  3565297.62  3.369223e+07   9.450\n",
              "2020-06-07   9.607   9.395   9.450  3840437.51  3.614569e+07   9.412\n",
              "2020-06-08   9.375   9.174   9.412  3657752.71  3.379639e+07   9.240\n",
              "2020-06-09   9.279   9.066   9.240  3523778.52  3.211828e+07   9.115\n",
              "2020-06-10   9.306   9.070   9.115  1794836.97  1.641593e+07   9.146\n",
              "...            ...     ...     ...         ...           ...     ...\n",
              "2021-10-10  69.030  65.820  69.550   247615.43  1.630500e+07  65.850\n",
              "2021-10-11  70.160  66.700  65.850   271222.62  1.830402e+07  67.490\n",
              "2021-10-12  66.390  64.830  67.080  3136438.21  2.071351e+08  66.040\n",
              "2021-10-13  67.700  65.080  66.000   221338.85  1.464628e+07  66.170\n",
              "2021-10-14  68.050  65.050  66.170   241213.28  1.630421e+07  67.590\n",
              "\n",
              "[496 rows x 6 columns]"
            ]
          },
          "metadata": {},
          "execution_count": 58
        }
      ]
    },
    {
      "cell_type": "code",
      "metadata": {
        "id": "Yw0FyMoLVUPr"
      },
      "source": [
        "def train_test_split(df, test_size=0.2):\n",
        "    split_row = len(df) - int(test_size * len(df))\n",
        "    train_data = df.iloc[:split_row]\n",
        "    test_data = df.iloc[split_row:]\n",
        "    return train_data, test_data"
      ],
      "execution_count": null,
      "outputs": []
    },
    {
      "cell_type": "code",
      "metadata": {
        "id": "lkjI4A6SVZST"
      },
      "source": [
        "train, test = train_test_split(hist, test_size=0.2)"
      ],
      "execution_count": null,
      "outputs": []
    },
    {
      "cell_type": "code",
      "metadata": {
        "id": "Zogd2R8kVcdY"
      },
      "source": [
        "def line_plot(line1, line2, label1=None, label2=None, title='', lw=2):\n",
        "    fig, ax = plt.subplots(1, figsize=(15, 7))\n",
        "    ax.plot(line1, label=label1, linewidth=lw)\n",
        "    ax.plot(line2, label=label2, linewidth=lw)\n",
        "    ax.set_ylabel('preço (Bitcoin)', fontsize=16)\n",
        "    ax.set_title(title, fontsize=16)\n",
        "    ax.legend(loc='best', fontsize=18);"
      ],
      "execution_count": null,
      "outputs": []
    },
    {
      "cell_type": "code",
      "metadata": {
        "colab": {
          "base_uri": "https://localhost:8080/",
          "height": 428
        },
        "id": "Rr5m5uFyVehr",
        "outputId": "1b1f8c71-cb65-4361-9ecf-58ff36ba16c8"
      },
      "source": [
        "line_plot(train[target_col], test[target_col], 'Treino', 'Teste', title='' )"
      ],
      "execution_count": null,
      "outputs": [
        {
          "output_type": "display_data",
          "data": {
            "image/png": "[encoded data removed]",
            "text/plain": [
              "<Figure size 1080x504 with 1 Axes>"
            ]
          },
          "metadata": {
            "needs_background": "light"
          }
        }
      ]
    },
    {
      "cell_type": "code",
      "metadata": {
        "id": "0pO4LCGqYXQV"
      },
      "source": [
        "def normalise_zero_base(df):\n",
        "    return df / df.iloc[0] - 1\n",
        "\n",
        "def normalise_min_max(df):\n",
        "    return (df - df.min()) / (data.max() - df.min())"
      ],
      "execution_count": null,
      "outputs": []
    },
    {
      "cell_type": "code",
      "metadata": {
        "id": "hD7eRb9FYhW9"
      },
      "source": [
        "def extract_window_data(df, window_len=5, zero_base=True):\n",
        "    window_data = []\n",
        "    for idx in range(len(df) - window_len):\n",
        "        tmp = df[idx: (idx + window_len)].copy()\n",
        "        if zero_base:\n",
        "            tmp = normalise_zero_base(tmp)\n",
        "        window_data.append(tmp.values)\n",
        "    return np.array(window_data)"
      ],
      "execution_count": null,
      "outputs": []
    },
    {
      "cell_type": "code",
      "metadata": {
        "id": "hN3YxOWLYmj2"
      },
      "source": [
        "def prepare_data(df, target_col, window_len=10, zero_base=True, test_size=0.2):\n",
        "    train_data, test_data = train_test_split(df, test_size=test_size)\n",
        "    X_train = extract_window_data(train_data, window_len, zero_base)\n",
        "    X_test = extract_window_data(test_data, window_len, zero_base)\n",
        "    y_train = train_data[target_col][window_len:].values\n",
        "    y_test = test_data[target_col][window_len:].values\n",
        "    if zero_base:\n",
        "        y_train = y_train / train_data[target_col][:-window_len].values - 1\n",
        "        y_test = y_test / test_data[target_col][:-window_len].values - 1\n",
        "\n",
        "    return train_data, test_data, X_train, X_test, y_train, y_test"
      ],
      "execution_count": null,
      "outputs": []
    },
    {
      "cell_type": "code",
      "metadata": {
        "id": "-I2iH5SwYqpE"
      },
      "source": [
        "def build_lstm_model(input_data, output_size, neurons=100, activ_func='linear',\n",
        "                     dropout=0.2, loss='mse', optimizer='adam'):\n",
        "    model = Sequential()\n",
        "    model.add(LSTM(neurons, input_shape=(input_data.shape[1], input_data.shape[2])))\n",
        "    model.add(Dropout(dropout))\n",
        "    model.add(Dense(units=output_size))\n",
        "    model.add(Activation(activ_func))\n",
        "\n",
        "    model.compile(loss=loss, optimizer=optimizer)\n",
        "    return model"
      ],
      "execution_count": null,
      "outputs": []
    },
    {
      "cell_type": "code",
      "metadata": {
        "id": "KZ89uBE3Y5Sk"
      },
      "source": [
        "np.random.seed(42)\n",
        "window_len = 5\n",
        "test_size = 0.2\n",
        "zero_base = True\n",
        "lstm_neurons = 100\n",
        "epochs = 70\n",
        "batch_size = 32\n",
        "loss = 'mse'\n",
        "dropout = 0.2\n",
        "optimizer = 'adam'"
      ],
      "execution_count": null,
      "outputs": []
    },
    {
      "cell_type": "code",
      "metadata": {
        "id": "t4UwSLvuZDXG"
      },
      "source": [
        "train, test, X_train, X_test, y_train, y_test = prepare_data(hist, target_col, window_len=window_len, zero_base=zero_base, test_size=test_size)"
      ],
      "execution_count": null,
      "outputs": []
    },
    {
      "cell_type": "code",
      "metadata": {
        "colab": {
          "base_uri": "https://localhost:8080/"
        },
        "id": "hdWnaggDaPDK",
        "outputId": "d344a058-36d3-4bcd-ecc8-86a0e09f38db"
      },
      "source": [
        "model = build_lstm_model(\n",
        "    X_train, output_size=1, neurons=lstm_neurons, dropout=dropout, loss=loss,\n",
        "    optimizer=optimizer)\n",
        "history = model.fit(\n",
        "    X_train, y_train, validation_data=(X_test, y_test), epochs=epochs, batch_size=batch_size, verbose=1, shuffle=True)"
      ],
      "execution_count": null,
      "outputs": [
        {
          "output_type": "stream",
          "name": "stdout",
          "text": [
            "Epoch 1/70\n",
            "13/13 [==============================] - 2s 40ms/step - loss: 0.0433 - val_loss: 0.0245\n",
            "Epoch 2/70\n",
            "13/13 [==============================] - 0s 8ms/step - loss: 0.0231 - val_loss: 0.0113\n",
            "Epoch 3/70\n",
            "13/13 [==============================] - 0s 8ms/step - loss: 0.0247 - val_loss: 0.0096\n",
            "Epoch 4/70\n",
            "13/13 [==============================] - 0s 8ms/step - loss: 0.0188 - val_loss: 0.0131\n",
            "Epoch 5/70\n",
            "13/13 [==============================] - 0s 8ms/step - loss: 0.0194 - val_loss: 0.0099\n",
            "Epoch 6/70\n",
            "13/13 [==============================] - 0s 8ms/step - loss: 0.0161 - val_loss: 0.0104\n",
            "Epoch 7/70\n",
            "13/13 [==============================] - 0s 9ms/step - loss: 0.0165 - val_loss: 0.0106\n",
            "Epoch 8/70\n",
            "13/13 [==============================] - 0s 7ms/step - loss: 0.0196 - val_loss: 0.0111\n",
            "Epoch 9/70\n",
            "13/13 [==============================] - 0s 8ms/step - loss: 0.0172 - val_loss: 0.0100\n",
            "Epoch 10/70\n",
            "13/13 [==============================] - 0s 8ms/step - loss: 0.0152 - val_loss: 0.0082\n",
            "Epoch 11/70\n",
            "13/13 [==============================] - 0s 7ms/step - loss: 0.0163 - val_loss: 0.0084\n",
            "Epoch 12/70\n",
            "13/13 [==============================] - 0s 7ms/step - loss: 0.0133 - val_loss: 0.0087\n",
            "Epoch 13/70\n",
            "13/13 [==============================] - 0s 8ms/step - loss: 0.0148 - val_loss: 0.0076\n",
            "Epoch 14/70\n",
            "13/13 [==============================] - 0s 7ms/step - loss: 0.0135 - val_loss: 0.0075\n",
            "Epoch 15/70\n",
            "13/13 [==============================] - 0s 8ms/step - loss: 0.0127 - val_loss: 0.0065\n",
            "Epoch 16/70\n",
            "13/13 [==============================] - 0s 8ms/step - loss: 0.0154 - val_loss: 0.0061\n",
            "Epoch 17/70\n",
            "13/13 [==============================] - 0s 8ms/step - loss: 0.0165 - val_loss: 0.0063\n",
            "Epoch 18/70\n",
            "13/13 [==============================] - 0s 7ms/step - loss: 0.0126 - val_loss: 0.0060\n",
            "Epoch 19/70\n",
            "13/13 [==============================] - 0s 7ms/step - loss: 0.0138 - val_loss: 0.0059\n",
            "Epoch 20/70\n",
            "13/13 [==============================] - 0s 7ms/step - loss: 0.0131 - val_loss: 0.0056\n",
            "Epoch 21/70\n",
            "13/13 [==============================] - 0s 8ms/step - loss: 0.0119 - val_loss: 0.0060\n",
            "Epoch 22/70\n",
            "13/13 [==============================] - 0s 8ms/step - loss: 0.0107 - val_loss: 0.0055\n",
            "Epoch 23/70\n",
            "13/13 [==============================] - 0s 7ms/step - loss: 0.0115 - val_loss: 0.0050\n",
            "Epoch 24/70\n",
            "13/13 [==============================] - 0s 8ms/step - loss: 0.0133 - val_loss: 0.0046\n",
            "Epoch 25/70\n",
            "13/13 [==============================] - 0s 8ms/step - loss: 0.0109 - val_loss: 0.0050\n",
            "Epoch 26/70\n",
            "13/13 [==============================] - 0s 8ms/step - loss: 0.0113 - val_loss: 0.0052\n",
            "Epoch 27/70\n",
            "13/13 [==============================] - 0s 8ms/step - loss: 0.0107 - val_loss: 0.0049\n",
            "Epoch 28/70\n",
            "13/13 [==============================] - 0s 7ms/step - loss: 0.0109 - val_loss: 0.0063\n",
            "Epoch 29/70\n",
            "13/13 [==============================] - 0s 8ms/step - loss: 0.0116 - val_loss: 0.0046\n",
            "Epoch 30/70\n",
            "13/13 [==============================] - 0s 8ms/step - loss: 0.0106 - val_loss: 0.0047\n",
            "Epoch 31/70\n",
            "13/13 [==============================] - 0s 7ms/step - loss: 0.0116 - val_loss: 0.0048\n",
            "Epoch 32/70\n",
            "13/13 [==============================] - 0s 7ms/step - loss: 0.0109 - val_loss: 0.0048\n",
            "Epoch 33/70\n",
            "13/13 [==============================] - 0s 8ms/step - loss: 0.0114 - val_loss: 0.0046\n",
            "Epoch 34/70\n",
            "13/13 [==============================] - 0s 9ms/step - loss: 0.0098 - val_loss: 0.0048\n",
            "Epoch 35/70\n",
            "13/13 [==============================] - 0s 8ms/step - loss: 0.0097 - val_loss: 0.0053\n",
            "Epoch 36/70\n",
            "13/13 [==============================] - 0s 9ms/step - loss: 0.0103 - val_loss: 0.0046\n",
            "Epoch 37/70\n",
            "13/13 [==============================] - 0s 8ms/step - loss: 0.0100 - val_loss: 0.0049\n",
            "Epoch 38/70\n",
            "13/13 [==============================] - 0s 7ms/step - loss: 0.0095 - val_loss: 0.0047\n",
            "Epoch 39/70\n",
            "13/13 [==============================] - 0s 7ms/step - loss: 0.0097 - val_loss: 0.0047\n",
            "Epoch 40/70\n",
            "13/13 [==============================] - 0s 7ms/step - loss: 0.0102 - val_loss: 0.0047\n",
            "Epoch 41/70\n",
            "13/13 [==============================] - 0s 8ms/step - loss: 0.0109 - val_loss: 0.0047\n",
            "Epoch 42/70\n",
            "13/13 [==============================] - 0s 7ms/step - loss: 0.0117 - val_loss: 0.0055\n",
            "Epoch 43/70\n",
            "13/13 [==============================] - 0s 8ms/step - loss: 0.0118 - val_loss: 0.0056\n",
            "Epoch 44/70\n",
            "13/13 [==============================] - 0s 8ms/step - loss: 0.0091 - val_loss: 0.0043\n",
            "Epoch 45/70\n",
            "13/13 [==============================] - 0s 7ms/step - loss: 0.0084 - val_loss: 0.0043\n",
            "Epoch 46/70\n",
            "13/13 [==============================] - 0s 7ms/step - loss: 0.0096 - val_loss: 0.0045\n",
            "Epoch 47/70\n",
            "13/13 [==============================] - 0s 8ms/step - loss: 0.0089 - val_loss: 0.0045\n",
            "Epoch 48/70\n",
            "13/13 [==============================] - 0s 7ms/step - loss: 0.0088 - val_loss: 0.0052\n",
            "Epoch 49/70\n",
            "13/13 [==============================] - 0s 8ms/step - loss: 0.0102 - val_loss: 0.0049\n",
            "Epoch 50/70\n",
            "13/13 [==============================] - 0s 8ms/step - loss: 0.0091 - val_loss: 0.0049\n",
            "Epoch 51/70\n",
            "13/13 [==============================] - 0s 8ms/step - loss: 0.0083 - val_loss: 0.0048\n",
            "Epoch 52/70\n",
            "13/13 [==============================] - 0s 7ms/step - loss: 0.0098 - val_loss: 0.0044\n",
            "Epoch 53/70\n",
            "13/13 [==============================] - 0s 8ms/step - loss: 0.0076 - val_loss: 0.0045\n",
            "Epoch 54/70\n",
            "13/13 [==============================] - 0s 7ms/step - loss: 0.0095 - val_loss: 0.0053\n",
            "Epoch 55/70\n",
            "13/13 [==============================] - 0s 9ms/step - loss: 0.0087 - val_loss: 0.0043\n",
            "Epoch 56/70\n",
            "13/13 [==============================] - 0s 8ms/step - loss: 0.0087 - val_loss: 0.0047\n",
            "Epoch 57/70\n",
            "13/13 [==============================] - 0s 7ms/step - loss: 0.0081 - val_loss: 0.0047\n",
            "Epoch 58/70\n",
            "13/13 [==============================] - 0s 8ms/step - loss: 0.0087 - val_loss: 0.0047\n",
            "Epoch 59/70\n",
            "13/13 [==============================] - 0s 8ms/step - loss: 0.0084 - val_loss: 0.0046\n",
            "Epoch 60/70\n",
            "13/13 [==============================] - 0s 8ms/step - loss: 0.0092 - val_loss: 0.0052\n",
            "Epoch 61/70\n",
            "13/13 [==============================] - 0s 8ms/step - loss: 0.0096 - val_loss: 0.0052\n",
            "Epoch 62/70\n",
            "13/13 [==============================] - 0s 7ms/step - loss: 0.0084 - val_loss: 0.0047\n",
            "Epoch 63/70\n",
            "13/13 [==============================] - 0s 7ms/step - loss: 0.0084 - val_loss: 0.0048\n",
            "Epoch 64/70\n",
            "13/13 [==============================] - 0s 7ms/step - loss: 0.0093 - val_loss: 0.0048\n",
            "Epoch 65/70\n",
            "13/13 [==============================] - 0s 8ms/step - loss: 0.0083 - val_loss: 0.0047\n",
            "Epoch 66/70\n",
            "13/13 [==============================] - 0s 7ms/step - loss: 0.0093 - val_loss: 0.0050\n",
            "Epoch 67/70\n",
            "13/13 [==============================] - 0s 7ms/step - loss: 0.0092 - val_loss: 0.0046\n",
            "Epoch 68/70\n",
            "13/13 [==============================] - 0s 7ms/step - loss: 0.0091 - val_loss: 0.0041\n",
            "Epoch 69/70\n",
            "13/13 [==============================] - 0s 8ms/step - loss: 0.0094 - val_loss: 0.0049\n",
            "Epoch 70/70\n",
            "13/13 [==============================] - 0s 9ms/step - loss: 0.0088 - val_loss: 0.0069\n"
          ]
        }
      ]
    },
    {
      "cell_type": "code",
      "metadata": {
        "colab": {
          "base_uri": "https://localhost:8080/",
          "height": 295
        },
        "id": "eI8-Ngy9aYPv",
        "outputId": "32b97d77-9a8a-4040-8e8c-31519b314298"
      },
      "source": [
        "import matplotlib.pyplot as plt\n",
        "plt.plot(history.history['loss'],'r',linewidth=2, label='Train loss')\n",
        "plt.plot(history.history['val_loss'], 'g',linewidth=2, label='Validation loss')\n",
        "plt.title('LSTM')\n",
        "plt.xlabel('Epocas')\n",
        "plt.ylabel('EQM')\n",
        "plt.show()"
      ],
      "execution_count": null,
      "outputs": [
        {
          "output_type": "display_data",
          "data": {
            "image/png": "[encoded data removed]",
            "text/plain": [
              "<Figure size 432x288 with 1 Axes>"
            ]
          },
          "metadata": {
            "needs_background": "light"
          }
        }
      ]
    },
    {
      "cell_type": "code",
      "metadata": {
        "colab": {
          "base_uri": "https://localhost:8080/"
        },
        "id": "ONNjICxSc0Fq",
        "outputId": "d01cd283-e691-4451-c7e1-fcc2db18e835"
      },
      "source": [
        "targets = test[target_col][window_len:]\n",
        "preds = model.predict(X_test).squeeze()\n",
        "mean_absolute_error(preds, y_test)"
      ],
      "execution_count": null,
      "outputs": [
        {
          "output_type": "execute_result",
          "data": {
            "text/plain": [
              "0.05940900283987512"
            ]
          },
          "metadata": {},
          "execution_count": 77
        }
      ]
    },
    {
      "cell_type": "code",
      "metadata": {
        "colab": {
          "base_uri": "https://localhost:8080/"
        },
        "id": "tqSviaN6c4db",
        "outputId": "7fda6aa9-6489-4a65-aeb8-09ecc17f414d"
      },
      "source": [
        "from sklearn.metrics import mean_squared_error\n",
        "MAE=mean_squared_error(preds, y_test)\n",
        "MAE"
      ],
      "execution_count": null,
      "outputs": [
        {
          "output_type": "execute_result",
          "data": {
            "text/plain": [
              "0.006942569543921854"
            ]
          },
          "metadata": {},
          "execution_count": 78
        }
      ]
    },
    {
      "cell_type": "code",
      "metadata": {
        "colab": {
          "base_uri": "https://localhost:8080/"
        },
        "id": "zl4f_EWGc9U6",
        "outputId": "546d950f-3479-4420-f36b-82812f80aab3"
      },
      "source": [
        "from sklearn.metrics import r2_score\n",
        "R2=r2_score(y_test, preds)\n",
        "R2"
      ],
      "execution_count": null,
      "outputs": [
        {
          "output_type": "execute_result",
          "data": {
            "text/plain": [
              "0.3887592020096954"
            ]
          },
          "metadata": {},
          "execution_count": 79
        }
      ]
    },
    {
      "cell_type": "code",
      "metadata": {
        "colab": {
          "base_uri": "https://localhost:8080/",
          "height": 428
        },
        "id": "A1Y2wFgUc_pW",
        "outputId": "642974fe-c36c-4011-f97c-ab9eef758cb5"
      },
      "source": [
        "preds = test[target_col].values[:-window_len] * (preds + 1)\n",
        "preds = pd.Series(index=targets.index, data=preds)\n",
        "line_plot(targets, preds, 'Atual', 'Predição', lw=3)"
      ],
      "execution_count": null,
      "outputs": [
        {
          "output_type": "display_data",
          "data": {
            "image/png": "[encoded data removed]",
            "text/plain": [
              "<Figure size 1080x504 with 1 Axes>"
            ]
          },
          "metadata": {
            "needs_background": "light"
          }
        }
      ]
    }
  ]
}